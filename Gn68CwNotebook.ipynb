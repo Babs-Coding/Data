{
 "cells": [
  {
   "cell_type": "code",
   "execution_count": 1,
   "metadata": {},
   "outputs": [],
   "source": [
    "import pandas as pd\n",
    "import matplotlib.pyplot as plt\n",
    "import numpy as np\n",
    "import re #imports regular expressions\n",
    "import seaborn as sns\n",
    "#add exception handling\n",
    "#use functions\n",
    "file = 'Manhattan12.csv'\n",
    "df = pd.read_csv(file, header=4)#This makes the csv file start being read from line 4 "
   ]
  },
  {
   "cell_type": "markdown",
   "metadata": {},
   "source": [
    "## Functions"
   ]
  },
  {
   "cell_type": "code",
   "execution_count": 2,
   "metadata": {},
   "outputs": [],
   "source": [
    "def id_outlier(df):\n",
    "    ## Create a vector of 0 of length equal to the number of rows\n",
    "    temp = [0] * df.shape[0]\n",
    "    ## test each outlier condition and mark with a 1 as required\n",
    "    for i, x in enumerate(df['SALE PRICE']):\n",
    "        if (x < 40000): temp[i] = 1 \n",
    "    for i, x in enumerate(df['SALE PRICE']):\n",
    "        if (x > 1500000): temp[i] = 1\n",
    "    df['outlier'] = temp # append a column to the data frame\n",
    "    return df"
   ]
  },
  {
   "cell_type": "code",
   "execution_count": 3,
   "metadata": {},
   "outputs": [],
   "source": [
    "def signs(df):\n",
    "    comma_col = ['LAND SQUARE FEET', 'RESIDENTIAL UNITS', 'TOTAL UNITS', 'GROSS SQUARE FEET','SALE PRICE','YEAR BUILT']\n",
    "    for col in comma_col:\n",
    "        df[col] = df[col].astype(str)\n",
    "        df[col] = df[col].str.replace('$','')\n",
    "        df[col] = df[col].str.replace(',','')\n",
    "        df[col] = df[col].astype(int)\n",
    "    return df"
   ]
  },
  {
   "cell_type": "code",
   "execution_count": 4,
   "metadata": {},
   "outputs": [],
   "source": [
    "def zero(df):\n",
    "    zero_cols = ['YEAR BUILT','TOTAL UNITS','GROSS SQUARE FEET','LAND SQUARE FEET']\n",
    "    for col in zero_cols:\n",
    "        df[col] = df[col].replace(0, np.nan)\n",
    "    return df"
   ]
  },
  {
   "cell_type": "markdown",
   "metadata": {},
   "source": [
    "## Fixing columns"
   ]
  },
  {
   "cell_type": "code",
   "execution_count": 5,
   "metadata": {},
   "outputs": [],
   "source": [
    "df.rename(columns = {'APART\\nMENT\\nNUMBER':'APARTMENT NUMBER'}, inplace= True)\n",
    "df.rename(columns = {'SALE\\nPRICE':'SALE PRICE'}, inplace= True)\n",
    "\n",
    "#Drop unneeded columns\n",
    "drop_list = ['BOROUGH', 'APARTMENT NUMBER', 'EASE-MENT']\n",
    "df.drop(drop_list, axis = 1, inplace = True)\n",
    "\n",
    "#Replace all commas & fix numerical columns\n",
    "df = signs(df)\n"
   ]
  },
  {
   "cell_type": "code",
   "execution_count": 6,
   "metadata": {},
   "outputs": [],
   "source": [
    "#This fixes the total units column as some os the values are incorrect\n",
    "df['TOTAL UNITS'] = df['RESIDENTIAL UNITS'] + df['COMMERCIAL UNITS']"
   ]
  },
  {
   "cell_type": "markdown",
   "metadata": {},
   "source": [
    "## Changing the datetime"
   ]
  },
  {
   "cell_type": "code",
   "execution_count": 7,
   "metadata": {},
   "outputs": [],
   "source": [
    "df['SALE DATE'] = pd.to_datetime(df['SALE DATE'])\n",
    "time = df['SALE DATE'].iloc[0]\n",
    "df['YEAR SOLD'] = df['SALE DATE'].apply(lambda time: time.month)"
   ]
  },
  {
   "cell_type": "code",
   "execution_count": 8,
   "metadata": {},
   "outputs": [
    {
     "data": {
      "text/plain": [
       "(27395, 19)"
      ]
     },
     "execution_count": 8,
     "metadata": {},
     "output_type": "execute_result"
    }
   ],
   "source": [
    "df.shape"
   ]
  },
  {
   "cell_type": "markdown",
   "metadata": {},
   "source": [
    "## Fixing missing values and outliers"
   ]
  },
  {
   "cell_type": "code",
   "execution_count": 9,
   "metadata": {},
   "outputs": [
    {
     "data": {
      "text/plain": [
       "NEIGHBORHOOD                              object\n",
       "BUILDING CLASS CATEGORY                   object\n",
       "TAX CLASS AT PRESENT                      object\n",
       "BLOCK                                      int64\n",
       "LOT                                        int64\n",
       "BUILDING CLASS AT PRESENT                 object\n",
       "ADDRESS                                   object\n",
       "ZIP CODE                                   int64\n",
       "RESIDENTIAL UNITS                          int32\n",
       "COMMERCIAL UNITS                           int64\n",
       "TOTAL UNITS                                int64\n",
       "LAND SQUARE FEET                           int32\n",
       "GROSS SQUARE FEET                          int32\n",
       "YEAR BUILT                                 int32\n",
       "TAX CLASS AT TIME OF SALE                  int64\n",
       "BUILDING CLASS AT TIME OF SALE            object\n",
       "SALE PRICE                                 int32\n",
       "SALE DATE                         datetime64[ns]\n",
       "YEAR SOLD                                  int64\n",
       "dtype: object"
      ]
     },
     "execution_count": 9,
     "metadata": {},
     "output_type": "execute_result"
    }
   ],
   "source": [
    "df.dtypes"
   ]
  },
  {
   "cell_type": "code",
   "execution_count": 10,
   "metadata": {},
   "outputs": [],
   "source": [
    "#replaces all empty cells with np.nan\n",
    "df=df.replace(r'^\\s+$', np.nan, regex=True)"
   ]
  },
  {
   "cell_type": "code",
   "execution_count": 11,
   "metadata": {},
   "outputs": [],
   "source": [
    "df = id_outlier(df)  # mark outliers\n",
    "df = df[df.outlier == 0] # filter for outliers\n",
    "df.drop('outlier', axis = 1, inplace = True)"
   ]
  },
  {
   "cell_type": "code",
   "execution_count": 12,
   "metadata": {},
   "outputs": [],
   "source": [
    "#uncomment this code to view house sale price value counts\n",
    "#df['GROSS SQUARE FEET'].value_counts().tail(30)\n",
    "#df.nlargest(5,'GROSS SQUARE FEET')\n",
    "#no house should be sold for $10 must be incorrect"
   ]
  },
  {
   "cell_type": "code",
   "execution_count": 13,
   "metadata": {},
   "outputs": [
    {
     "data": {
      "text/plain": [
       "(1413, 19)"
      ]
     },
     "execution_count": 13,
     "metadata": {},
     "output_type": "execute_result"
    }
   ],
   "source": [
    "#converts all 0 values\n",
    "df = zero(df)\n",
    "df.dropna(axis=0,inplace=True)\n",
    "df.shape\n",
    "#df['SALE PRICE LOG'] = np.log(df['SALE PRICE'])\n",
    "#df['SALE PRICE'] = np.around(df['SALE PRICE LOG'])\n",
    "#df['SALE PRICE LOG']"
   ]
  },
  {
   "cell_type": "markdown",
   "metadata": {},
   "source": [
    "## Linear Regression"
   ]
  },
  {
   "cell_type": "code",
   "execution_count": 14,
   "metadata": {},
   "outputs": [
    {
     "name": "stdout",
     "output_type": "stream",
     "text": [
      "Training size: 989, Testing size: 424\n",
      "Samples: 989 Features: 19\n"
     ]
    }
   ],
   "source": [
    "from sklearn.model_selection import train_test_split\n",
    "df_train, df_test = train_test_split(df, test_size=0.3)\n",
    "print(\"Training size: {}, Testing size: {}\".format(len(df_train), len(df_test)))\n",
    "print(\"Samples: {} Features: {}\".format(*df_train.shape))"
   ]
  },
  {
   "cell_type": "code",
   "execution_count": 40,
   "metadata": {},
   "outputs": [
    {
     "name": "stdout",
     "output_type": "stream",
     "text": [
      "['RESIDENTIAL UNITS', 'TOTAL UNITS', 'LAND SQUARE FEET', 'GROSS SQUARE FEET']\n",
      "Y-axis intercept 793378.9387\n",
      "Weight coefficients:\n",
      "    RESIDENTIAL UNITS: 4289.3484\n",
      "          TOTAL UNITS: 763.0482\n",
      "     LAND SQUARE FEET: 21.0187\n",
      "    GROSS SQUARE FEET: -7.8148\n",
      "R squared for the training data is 0.767\n",
      "Score against test data: 0.837\n"
     ]
    }
   ],
   "source": [
    "from sklearn import svm, feature_selection, linear_model\n",
    "num_cols = df.select_dtypes(include=[np.number]).copy()\n",
    "feature_cols = df.columns.values.tolist()\n",
    "feature_cols.remove('SALE PRICE')\n",
    "feature_cols.remove('NEIGHBORHOOD')\n",
    "feature_cols.remove('TAX CLASS AT PRESENT')\n",
    "feature_cols.remove('BLOCK')\n",
    "feature_cols.remove('LOT')\n",
    "feature_cols.remove('ADDRESS')\n",
    "feature_cols.remove('ZIP CODE')\n",
    "feature_cols.remove('YEAR BUILT')\n",
    "feature_cols.remove('TAX CLASS AT TIME OF SALE')\n",
    "feature_cols.remove('SALE DATE')\n",
    "feature_cols.remove('BUILDING CLASS AT TIME OF SALE')\n",
    "feature_cols.remove('BUILDING CLASS CATEGORY')\n",
    "feature_cols.remove('BUILDING CLASS AT PRESENT')\n",
    "feature_cols.remove('COMMERCIAL UNITS')\n",
    "feature_cols.remove('YEAR SOLD')\n",
    "#feature_cols.remove('SALE PRICE LOG')\n",
    "\n",
    "\n",
    "XO =df[feature_cols]\n",
    "YO = df['SALE PRICE']\n",
    "estimator = svm.SVR(kernel=\"linear\")\n",
    "selector = feature_selection.RFE(estimator, 5,step=1)\n",
    "selector = selector.fit(XO, YO)\n",
    "select_features = np.array(feature_cols)[selector.ranking_ == 1].tolist()\n",
    "print(select_features)\n",
    "\n",
    "from sklearn.model_selection import train_test_split\n",
    "X = df[select_features]\n",
    "Y = df['SALE PRICE']\n",
    "trainX, testX, trainY, testY = train_test_split(X, Y, test_size=0.2)\n",
    "lm = linear_model.LinearRegression()\n",
    "lm.fit(trainX, trainY)\n",
    "# Inspect the calculated model equations\n",
    "print(\"Y-axis intercept {:6.4f}\".format(lm.intercept_))\n",
    "print(\"Weight coefficients:\")\n",
    "for feat, coef in zip(select_features, lm.coef_):\n",
    "\n",
    "    print(\" {:>20}: {:6.4f}\".format(feat, coef))\n",
    "#The value of R^2\n",
    "print(\"R squared for the training data is {:4.3f}\".format(lm.score(trainX, trainY)))\n",
    "print(\"Score against test data: {:4.3f}\".format(lm.score(testX, testY)))\n"
   ]
  },
  {
   "cell_type": "code",
   "execution_count": 16,
   "metadata": {},
   "outputs": [
    {
     "data": {
      "text/plain": [
       "(1413, 19)"
      ]
     },
     "execution_count": 16,
     "metadata": {},
     "output_type": "execute_result"
    }
   ],
   "source": [
    "df.shape"
   ]
  },
  {
   "cell_type": "markdown",
   "metadata": {},
   "source": [
    "## Visualisation"
   ]
  },
  {
   "cell_type": "code",
   "execution_count": 31,
   "metadata": {},
   "outputs": [
    {
     "data": {
      "text/plain": [
       "(array([ 0,  1,  2,  3,  4,  5,  6,  7,  8,  9, 10, 11, 12, 13, 14, 15, 16,\n",
       "        17, 18, 19, 20, 21, 22, 23, 24, 25, 26, 27, 28, 29]),\n",
       " <a list of 30 Text xticklabel objects>)"
      ]
     },
     "execution_count": 31,
     "metadata": {},
     "output_type": "execute_result"
    },
    {
     "data": {
      "image/png": "[encoded data removed]",
      "text/plain": [
       "<Figure size 936x432 with 1 Axes>"
      ]
     },
     "metadata": {
      "needs_background": "light"
     },
     "output_type": "display_data"
    }
   ],
   "source": [
    "plt.figure(figsize=(13,6))\n",
    "\n",
    "sns.barplot(x='NEIGHBORHOOD', y='SALE PRICE', data=df, )\n",
    "plt.xticks(rotation=90)#Rotated to give the neighborhood axis more space"
   ]
  },
  {
   "cell_type": "code",
   "execution_count": 18,
   "metadata": {},
   "outputs": [
    {
     "data": {
      "text/plain": [
       "(array([ 0,  1,  2,  3,  4,  5,  6,  7,  8,  9, 10, 11, 12, 13, 14, 15, 16,\n",
       "        17, 18, 19, 20, 21, 22, 23, 24, 25, 26, 27, 28, 29, 30, 31, 32, 33,\n",
       "        34, 35]), <a list of 36 Text xticklabel objects>)"
      ]
     },
     "execution_count": 18,
     "metadata": {},
     "output_type": "execute_result"
    },
    {
     "data": {
      "image/png": "[encoded data removed]",
      "text/plain": [
       "<Figure size 936x432 with 1 Axes>"
      ]
     },
     "metadata": {
      "needs_background": "light"
     },
     "output_type": "display_data"
    }
   ],
   "source": [
    "plt.figure(figsize=(13,6))\n",
    "sns.barplot(x='YEAR BUILT', y='SALE PRICE', data=df)\n",
    "plt.xticks(rotation=90)"
   ]
  }
 ],
 "metadata": {
  "kernelspec": {
   "display_name": "Python 3",
   "language": "python",
   "name": "python3"
  },
  "language_info": {
   "codemirror_mode": {
    "name": "ipython",
    "version": 3
   },
   "file_extension": ".py",
   "mimetype": "text/x-python",
   "name": "python",
   "nbconvert_exporter": "python",
   "pygments_lexer": "ipython3",
   "version": "3.7.4"
  }
 },
 "nbformat": 4,
 "nbformat_minor": 2
}
