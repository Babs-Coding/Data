{
 "cells": [
  {
   "cell_type": "code",
   "execution_count": 1,
   "metadata": {},
   "outputs": [
    {
     "data": {
      "text/plain": [
       "0.3333333333333333"
      ]
     },
     "execution_count": 1,
     "metadata": {},
     "output_type": "execute_result"
    }
   ],
   "source": [
    "2/6\n"
   ]
  },
  {
   "cell_type": "code",
   "execution_count": 2,
   "metadata": {},
   "outputs": [
    {
     "data": {
      "text/plain": [
       "0"
      ]
     },
     "execution_count": 2,
     "metadata": {},
     "output_type": "execute_result"
    }
   ],
   "source": [
    "2//6"
   ]
  },
  {
   "cell_type": "code",
   "execution_count": 3,
   "metadata": {},
   "outputs": [
    {
     "data": {
      "text/plain": [
       "2"
      ]
     },
     "execution_count": 3,
     "metadata": {},
     "output_type": "execute_result"
    }
   ],
   "source": [
    "56%3"
   ]
  },
  {
   "cell_type": "code",
   "execution_count": 4,
   "metadata": {},
   "outputs": [
    {
     "ename": "SyntaxError",
     "evalue": "invalid character in identifier (<ipython-input-4-f018a3f44e77>, line 1)",
     "output_type": "error",
     "traceback": [
      "\u001b[1;36m  File \u001b[1;32m\"<ipython-input-4-f018a3f44e77>\"\u001b[1;36m, line \u001b[1;32m1\u001b[0m\n\u001b[1;33m    12.*(2-6)²\u001b[0m\n\u001b[1;37m             ^\u001b[0m\n\u001b[1;31mSyntaxError\u001b[0m\u001b[1;31m:\u001b[0m invalid character in identifier\n"
     ]
    }
   ],
   "source": [
    "12.*(2-6)²"
   ]
  },
  {
   "cell_type": "code",
   "execution_count": 56,
   "metadata": {},
   "outputs": [
    {
     "data": {
      "text/plain": [
       "8"
      ]
     },
     "execution_count": 56,
     "metadata": {},
     "output_type": "execute_result"
    }
   ],
   "source": [
    "2**3# how to write squared"
   ]
  },
  {
   "cell_type": "code",
   "execution_count": 5,
   "metadata": {},
   "outputs": [
    {
     "data": {
      "text/plain": [
       "True"
      ]
     },
     "execution_count": 5,
     "metadata": {},
     "output_type": "execute_result"
    }
   ],
   "source": [
    "1==1.0"
   ]
  },
  {
   "cell_type": "code",
   "execution_count": 6,
   "metadata": {},
   "outputs": [
    {
     "data": {
      "text/plain": [
       "True"
      ]
     },
     "execution_count": 6,
     "metadata": {},
     "output_type": "execute_result"
    }
   ],
   "source": [
    "3 >= 2 and 3<=4"
   ]
  },
  {
   "cell_type": "code",
   "execution_count": 7,
   "metadata": {},
   "outputs": [
    {
     "data": {
      "text/plain": [
       "True"
      ]
     },
     "execution_count": 7,
     "metadata": {},
     "output_type": "execute_result"
    }
   ],
   "source": [
    "3 >= 5 or 3 <= 4"
   ]
  },
  {
   "cell_type": "code",
   "execution_count": null,
   "metadata": {},
   "outputs": [],
   "source": []
  },
  {
   "cell_type": "code",
   "execution_count": 9,
   "metadata": {},
   "outputs": [
    {
     "name": "stdout",
     "output_type": "stream",
     "text": [
      "<class 'float'>\n"
     ]
    },
    {
     "data": {
      "text/plain": [
       "False"
      ]
     },
     "execution_count": 9,
     "metadata": {},
     "output_type": "execute_result"
    }
   ],
   "source": [
    "x = 8.5\n",
    "print(type(x))\n",
    "x.is_integer()"
   ]
  },
  {
   "cell_type": "code",
   "execution_count": 12,
   "metadata": {},
   "outputs": [
    {
     "name": "stdout",
     "output_type": "stream",
     "text": [
      "<class 'int'>\n",
      "<class 'str'>\n"
     ]
    }
   ],
   "source": [
    "print(type(8))\n",
    "\n",
    "print(type('Hello'))"
   ]
  },
  {
   "cell_type": "code",
   "execution_count": 13,
   "metadata": {},
   "outputs": [
    {
     "name": "stdout",
     "output_type": "stream",
     "text": [
      "5.3\n",
      "<class 'float'>\n"
     ]
    }
   ],
   "source": [
    "n = 3\n",
    "n = 5.3\n",
    "print(n)\n",
    "print(type(n))"
   ]
  },
  {
   "cell_type": "code",
   "execution_count": 16,
   "metadata": {},
   "outputs": [
    {
     "name": "stdout",
     "output_type": "stream",
     "text": [
      "We will have a feast tonight unless you say\n"
     ]
    }
   ],
   "source": [
    " print ('We will have a feast tonight unless you say')"
   ]
  },
  {
   "cell_type": "code",
   "execution_count": 18,
   "metadata": {},
   "outputs": [
    {
     "data": {
      "text/plain": [
       "10"
      ]
     },
     "execution_count": 18,
     "metadata": {},
     "output_type": "execute_result"
    }
   ],
   "source": [
    "speed = 10\n",
    "int(speed)\n"
   ]
  },
  {
   "cell_type": "code",
   "execution_count": 20,
   "metadata": {},
   "outputs": [],
   "source": [
    "badname = 5\n"
   ]
  },
  {
   "cell_type": "code",
   "execution_count": 24,
   "metadata": {},
   "outputs": [
    {
     "name": "stdout",
     "output_type": "stream",
     "text": [
      "Enter a number: 10\n"
     ]
    }
   ],
   "source": [
    "celcius = float(input(\"Enter a number: \"))\n"
   ]
  },
  {
   "cell_type": "code",
   "execution_count": 22,
   "metadata": {},
   "outputs": [
    {
     "name": "stdout",
     "output_type": "stream",
     "text": [
      "10\n"
     ]
    }
   ],
   "source": [
    "print(celcius)"
   ]
  },
  {
   "cell_type": "code",
   "execution_count": 25,
   "metadata": {},
   "outputs": [
    {
     "name": "stdout",
     "output_type": "stream",
     "text": [
      "<class 'float'>\n"
     ]
    }
   ],
   "source": [
    "print(type(celcius))"
   ]
  },
  {
   "cell_type": "code",
   "execution_count": 26,
   "metadata": {},
   "outputs": [],
   "source": [
    "farenheight =9/5 * celcius + 32"
   ]
  },
  {
   "cell_type": "code",
   "execution_count": 27,
   "metadata": {},
   "outputs": [
    {
     "name": "stdout",
     "output_type": "stream",
     "text": [
      "50.0\n"
     ]
    }
   ],
   "source": [
    "print(farenheight)"
   ]
  },
  {
   "cell_type": "code",
   "execution_count": 28,
   "metadata": {},
   "outputs": [
    {
     "name": "stdout",
     "output_type": "stream",
     "text": [
      "\n",
      "Please wait a moment while I gather a list of all available modules...\n",
      "\n"
     ]
    },
    {
     "name": "stderr",
     "output_type": "stream",
     "text": [
      "C:\\Users\\glenn\\Anaconda3\\lib\\site-packages\\IPython\\kernel\\__init__.py:13: ShimWarning: The `IPython.kernel` package has been deprecated since IPython 4.0.You should import from ipykernel or jupyter_client instead.\n",
      "  \"You should import from ipykernel or jupyter_client instead.\", ShimWarning)\n",
      "WARNING: AstropyDeprecationWarning: astropy.utils.compat.futures is now deprecated - use concurrent.futures instead [astropy.utils.compat.futures]\n",
      "C:\\Users\\glenn\\Anaconda3\\lib\\site-packages\\nltk\\twitter\\__init__.py:22: UserWarning: The twython library has not been installed. Some functionality from the twitter package will not be available.\n",
      "  \"The twython library has not been installed. \"\n"
     ]
    },
    {
     "name": "stdout",
     "output_type": "stream",
     "text": [
      "DEBUG:pip._internal.vcs.versioncontrol:Registered VCS backend: bzr\n",
      "DEBUG:pip._internal.vcs.versioncontrol:Registered VCS backend: git\n",
      "DEBUG:pip._internal.vcs.versioncontrol:Registered VCS backend: hg\n",
      "DEBUG:pip._internal.vcs.versioncontrol:Registered VCS backend: svn\n"
     ]
    },
    {
     "name": "stderr",
     "output_type": "stream",
     "text": [
      "C:\\Users\\glenn\\Anaconda3\\lib\\site-packages\\skimage\\novice\\__init__.py:103: UserWarning: The `skimage.novice` module was deprecated in version 0.14. It will be removed in 0.16.\n",
      "  warnings.warn(\"The `skimage.novice` module was deprecated in version 0.14. \"\n",
      "C:\\Users\\glenn\\Anaconda3\\lib\\site-packages\\skimage\\viewer\\utils\\core.py:10: UserWarning: Recommended matplotlib backend is `Agg` for full skimage.viewer functionality.\n",
      "  warn(\"Recommended matplotlib backend is `Agg` for full \"\n",
      "C:\\Users\\glenn\\Anaconda3\\lib\\site-packages\\sklearn\\externals\\joblib\\__init__.py:15: DeprecationWarning: sklearn.externals.joblib is deprecated in 0.21 and will be removed in 0.23. Please import this functionality directly from joblib, which can be installed with: pip install joblib. If this warning is raised when loading pickled models, you may need to re-serialize those models with scikit-learn 0.21+.\n",
      "  warnings.warn(msg, category=DeprecationWarning)\n",
      "C:\\Users\\glenn\\Anaconda3\\lib\\site-packages\\qtawesome\\iconic_font.py:301: UserWarning: You need to have a running QApplication to use QtAwesome!\n",
      "  warnings.warn(\"You need to have a running \"\n"
     ]
    },
    {
     "name": "stdout",
     "output_type": "stream",
     "text": [
      "_cffi_ext.c\r\n",
      "C:\\Users\\glenn\\Anaconda3\\lib\\site-packages\\zmq\\backend\\cffi\\__pycache__\\_cffi_ext.c(213): fatal error C1083: Cannot open include file: 'sys/un.h': No such file or directory\r\n"
     ]
    },
    {
     "name": "stderr",
     "output_type": "stream",
     "text": [
      "C:\\Users\\glenn\\Anaconda3\\lib\\pkgutil.py:107: VisibleDeprecationWarning: zmq.eventloop.minitornado is deprecated in pyzmq 14.0 and will be removed.\n",
      "    Install tornado itself to use zmq with the tornado IOLoop.\n",
      "    \n",
      "  yield from walk_packages(path, info.name+'.', onerror)\n"
     ]
    },
    {
     "name": "stdout",
     "output_type": "stream",
     "text": [
      "Crypto              brain_six           markupsafe          socketserver\n",
      "Cython              brain_ssl           marshal             socks\n",
      "IPython             brain_subprocess    math                sockshandler\n",
      "OpenSSL             brain_threading     matplotlib          sortedcollections\n",
      "PIL                 brain_typing        mccabe              sortedcontainers\n",
      "PyQt5               brain_uuid          menuinst            soupsieve\n",
      "__future__          bs4                 mimetypes           sphinx\n",
      "_abc                builtins            mistune             sphinxcontrib\n",
      "_ast                bz2                 mkl                 spyder\n",
      "_asyncio            cProfile            mkl_fft             spyder_breakpoints\n",
      "_bisect             calendar            mkl_random          spyder_io_dcm\n",
      "_blake2             certifi             mmap                spyder_io_hdf5\n",
      "_bootlocale         cffi                mmapfile            spyder_kernels\n",
      "_bz2                cgi                 mmsystem            spyder_profiler\n",
      "_cffi_backend       cgitb               mock                spyder_pylint\n",
      "_codecs             chardet             modulefinder        sqlalchemy\n",
      "_codecs_cn          chunk               more_itertools      sqlite3\n",
      "_codecs_hk          click               mpmath              sre_compile\n",
      "_codecs_iso2022     cloudpickle         msgpack             sre_constants\n",
      "_codecs_jp          clyent              msilib              sre_parse\n",
      "_codecs_kr          cmath               msvcrt              ssl\n",
      "_codecs_tw          cmd                 multipledispatch    sspi\n",
      "_collections        code                multiprocessing     sspicon\n",
      "_collections_abc    codecs              navigator_updater   stat\n",
      "_compat_pickle      codeop              nbconvert           statistics\n",
      "_compression        collections         nbformat            statsmodels\n",
      "_contextvars        colorama            netbios             storemagic\n",
      "_csv                colorsys            netrc               string\n",
      "_ctypes             commctrl            networkx            stringprep\n",
      "_ctypes_test        compileall          nltk                struct\n",
      "_datetime           comtypes            nntplib             subprocess\n",
      "_decimal            concurrent          nose                sunau\n",
      "_dummy_thread       conda               notebook            symbol\n",
      "_elementtree        conda_build         nt                  sympy\n",
      "_functools          conda_env           ntpath              sympyprinting\n",
      "_hashlib            conda_package_handling ntsecuritycon       symtable\n",
      "_heapq              conda_verify        nturl2path          sys\n",
      "_imp                configparser        numba               sysconfig\n",
      "_io                 contextlib          numbers             tables\n",
      "_json               contextlib2         numexpr             tabnanny\n",
      "_locale             contextvars         numpy               tarfile\n",
      "_lsprof             copy                numpydoc            tblib\n",
      "_lzma               copyreg             odbc                telnetlib\n",
      "_markupbase         crypt               olefile             tempfile\n",
      "_md5                cryptography        opcode              terminado\n",
      "_msi                csv                 openpyxl            test\n",
      "_multibytecodec     ctypes              operator            test_data\n",
      "_multiprocessing    curl                optparse            test_pycosat\n",
      "_nsis               curses              os                  testpath\n",
      "_opcode             cwp                 packaging           tests\n",
      "_operator           cycler              pandas              textwrap\n",
      "_osx_support        cython              pandocfilters       this\n",
      "_overlapped         cythonmagic         parser              threading\n",
      "_pickle             cytoolz             parso               time\n",
      "_py_abc             dask                partd               timeit\n",
      "_pydecimal          dataclasses         past                timer\n",
      "_pyio               datetime            path                tkinter\n",
      "_pylief             dateutil            pathlib             tlz\n",
      "_pyrsistent_version dbi                 pathlib2            token\n",
      "_pytest             dbm                 patsy               tokenize\n",
      "_queue              dde                 pdb                 toolz\n",
      "_random             decimal             pep8                tornado\n",
      "_sha1               decorator           perfmon             tqdm\n",
      "_sha256             defusedxml          pickle              trace\n",
      "_sha3               difflib             pickleshare         traceback\n",
      "_sha512             dis                 pickletools         tracemalloc\n",
      "_signal             distributed         pip                 traitlets\n",
      "_sitebuiltins       distutils           pipes               tty\n",
      "_socket             doctest             pkg_resources       turtle\n",
      "_sqlite3            docutils            pkginfo             turtledemo\n",
      "_sre                dummy_threading     pkgutil             types\n",
      "_ssl                easy_install        platform            typing\n",
      "_stat               email               plistlib            unicodecsv\n",
      "_string             encodings           pluggy              unicodedata\n",
      "_strptime           ensurepip           ply                 unittest\n",
      "_struct             entrypoints         poplib              urllib\n",
      "_symtable           enum                posixpath           urllib3\n",
      "_system_path        errno               pprint              uu\n",
      "_testbuffer         et_xmlfile          profile             uuid\n",
      "_testcapi           fastcache           prometheus_client   venv\n",
      "_testconsole        faulthandler        prompt_toolkit      warnings\n",
      "_testimportmultiple filecmp             pstats              wave\n",
      "_testmultiphase     fileinput           psutil              wcwidth\n",
      "_thread             filelock            pty                 weakref\n",
      "_threading_local    flask               pvectorc            webbrowser\n",
      "_tkinter            fnmatch             py                  webencodings\n",
      "_tracemalloc        formatter           py_compile          werkzeug\n",
      "_warnings           fractions           pyclbr              wheel\n",
      "_weakref            fsspec              pycodestyle         widgetsnbextension\n",
      "_weakrefset         ftplib              pycosat             win2kras\n",
      "_win32sysloader     functools           pycparser           win32api\n",
      "_winapi             future              pycurl              win32clipboard\n",
      "_winxptheme         gc                  pydoc               win32com\n",
      "_yaml               genericpath         pydoc_data          win32con\n",
      "abc                 getopt              pyexpat             win32console\n",
      "adodbapi            getpass             pyflakes            win32cred\n",
      "afxres              gettext             pygments            win32crypt\n",
      "aifc                gevent              pylab               win32cryptcon\n",
      "alabaster           glob                pylint              win32event\n",
      "anaconda_navigator  glob2               pyodbc              win32evtlog\n",
      "anaconda_project    greenlet            pyparsing           win32evtlogutil\n",
      "antigravity         gzip                pyreadline          win32file\n",
      "argparse            h5py                pyrsistent          win32gui\n",
      "array               hashlib             pytest              win32gui_struct\n",
      "asn1crypto          heapdict            pytest_arraydiff    win32help\n",
      "ast                 heapq               pytest_doctestplus  win32inet\n",
      "astroid             hmac                pytest_openfiles    win32inetcon\n",
      "astropy             html                pytest_remotedata   win32job\n",
      "asynchat            html5lib            pythoncom           win32lz\n",
      "asyncio             http                pytz                win32net\n",
      "asyncore            idlelib             pywin               win32netcon\n",
      "atexit              idna                pywin32_testutil    win32pdh\n",
      "atomicwrites        imageio             pywintypes          win32pdhquery\n",
      "attr                imagesize           pywt                win32pdhutil\n",
      "audioop             imaplib             pyximport           win32pipe\n",
      "autoreload          imghdr              qtawesome           win32print\n",
      "babel               imp                 qtconsole           win32process\n"
     ]
    },
    {
     "name": "stdout",
     "output_type": "stream",
     "text": [
      "backcall            importlib           qtpy                win32profile\n",
      "backports           importlib_metadata  queue               win32ras\n",
      "base64              inspect             quopri              win32rcparser\n",
      "bdb                 io                  random              win32security\n",
      "binascii            ipaddress           rasutil             win32service\n",
      "binhex              ipykernel           re                  win32serviceutil\n",
      "binstar_client      ipykernel_launcher  readline            win32timezone\n",
      "bisect              ipython_genutils    regcheck            win32trace\n",
      "bitarray            ipywidgets          regutil             win32traceutil\n",
      "bkcharts            isapi               reprlib             win32transaction\n",
      "bleach              isort               requests            win32ts\n",
      "bokeh               isympy              rlcompleter         win32ui\n",
      "boto                itertools           rmagic              win32uiole\n",
      "bottleneck          itsdangerous        rope                win32verstamp\n",
      "brain_argparse      jdcal               ruamel_yaml         win32wnet\n",
      "brain_attrs         jedi                run                 win_inet_pton\n",
      "brain_builtin_inference jinja2              runpy               win_unicode_console\n",
      "brain_collections   joblib              sched               wincertstore\n",
      "brain_crypt         json                scipy               winerror\n",
      "brain_curses        json5               scripts             winioctlcon\n",
      "brain_dataclasses   jsonschema          seaborn             winnt\n",
      "brain_dateutil      jupyter             secrets             winperf\n",
      "brain_fstrings      jupyter_client      select              winpty\n",
      "brain_functools     jupyter_console     selectors           winreg\n",
      "brain_gi            jupyter_core        send2trash          winsound\n",
      "brain_hashlib       jupyterlab          servicemanager      winxpgui\n",
      "brain_http          jupyterlab_server   setuptools          winxptheme\n",
      "brain_io            keyring             shelve              wrapt\n",
      "brain_mechanize     keyword             shlex               wsgiref\n",
      "brain_multiprocessing kiwisolver          shutil              xdrlib\n",
      "brain_namedtuple_enum lazy_object_proxy   signal              xlrd\n",
      "brain_nose          lib2to3             simplegeneric       xlsxwriter\n",
      "brain_numpy_core_fromnumeric libarchive          singledispatch      xlwings\n",
      "brain_numpy_core_function_base libfuturize         singledispatch_helpers xlwt\n",
      "brain_numpy_core_multiarray libpasteurize       sip                 xml\n",
      "brain_numpy_core_numeric lief                sipconfig           xmlrpc\n",
      "brain_numpy_core_numerictypes linecache           sipdistutils        xxsubtype\n",
      "brain_numpy_core_umath llvmlite            site                yaml\n",
      "brain_numpy_ndarray locale              six                 zict\n",
      "brain_numpy_random_mtrand locket              skimage             zipapp\n",
      "brain_numpy_utils   logging             sklearn             zipfile\n",
      "brain_pkg_resources lxml                smtpd               zipimport\n",
      "brain_pytest        lzma                smtplib             zipp\n",
      "brain_qt            macpath             sndhdr              zlib\n",
      "brain_random        mailbox             snowballstemmer     zmq\n",
      "brain_re            mailcap             socket              \n",
      "\n",
      "Enter any module name to get more help.  Or, type \"modules spam\" to search\n",
      "for modules whose name or summary contain the string \"spam\".\n",
      "\n",
      "DEBUG:matplotlib.pyplot:Loaded backend module://ipykernel.pylab.backend_inline version unknown.\n"
     ]
    }
   ],
   "source": [
    "help('modules')"
   ]
  },
  {
   "cell_type": "code",
   "execution_count": 31,
   "metadata": {},
   "outputs": [
    {
     "name": "stdout",
     "output_type": "stream",
     "text": [
      "Help on built-in function min in module builtins:\n",
      "\n",
      "min(...)\n",
      "    min(iterable, *[, default=obj, key=func]) -> value\n",
      "    min(arg1, arg2, *args, *[, key=func]) -> value\n",
      "    \n",
      "    With a single iterable argument, return its smallest item. The\n",
      "    default keyword-only argument specifies an object to return if\n",
      "    the provided iterable is empty.\n",
      "    With two or more arguments, return the smallest argument.\n",
      "\n"
     ]
    }
   ],
   "source": [
    "help('min')"
   ]
  },
  {
   "cell_type": "code",
   "execution_count": 36,
   "metadata": {},
   "outputs": [
    {
     "name": "stdout",
     "output_type": "stream",
     "text": [
      "x is odd\n"
     ]
    }
   ],
   "source": [
    "if x%2 == 0 :\n",
    "    print('x is even')\n",
    "else :\n",
    "    print('x is odd')"
   ]
  },
  {
   "cell_type": "code",
   "execution_count": 45,
   "metadata": {},
   "outputs": [
    {
     "name": "stdout",
     "output_type": "stream",
     "text": [
      "5\n",
      "4\n",
      "3\n",
      "2\n",
      "1\n",
      "Done\n"
     ]
    }
   ],
   "source": [
    "n = 5\n",
    "while (n > 0):\n",
    "    print(n)\n",
    "    n = n -1 \n",
    "#hello\n",
    "print('Done')"
   ]
  },
  {
   "cell_type": "code",
   "execution_count": 46,
   "metadata": {},
   "outputs": [
    {
     "name": "stdout",
     "output_type": "stream",
     "text": [
      "0\n",
      "1\n",
      "2\n",
      "3\n",
      "4\n",
      "done\n"
     ]
    }
   ],
   "source": [
    "for i in range(5) :\n",
    "    print(i)\n",
    "print('done')"
   ]
  },
  {
   "cell_type": "code",
   "execution_count": 49,
   "metadata": {},
   "outputs": [
    {
     "name": "stdout",
     "output_type": "stream",
     "text": [
      "Enter a number: 2\n",
      "Enter a number: 4\n",
      "Enter a number: 5\n",
      "Enter a number: 6\n",
      "Enter a number: \n",
      "Enter a number: 5\n",
      "Enter a number: \n",
      "Enter a number: 2\n",
      "Enter a number: done\n",
      "Thanks for typing.\n"
     ]
    }
   ],
   "source": [
    "#This program will repeatedly read numbers until a user enters done\n",
    "d1 = 1\n",
    "while(d1 != 'done' || d1 = 'Done') :\n",
    "    d1 = input(\"Enter a number: \")\n",
    "    \n",
    "print('Thanks for typing.')\n",
    "    \n",
    "\n"
   ]
  },
  {
   "cell_type": "code",
   "execution_count": 50,
   "metadata": {},
   "outputs": [
    {
     "name": "stdout",
     "output_type": "stream",
     "text": [
      "r\n",
      "11\n",
      "32.0\n",
      "1.4142135623730951\n"
     ]
    }
   ],
   "source": [
    "import math\n",
    "print(max('Hello World')) #Used to return the maximum value of two arguements\n",
    "print(len('Hello World'))\n",
    "print(float(32))\n",
    "print(math.sqrt(2))"
   ]
  },
  {
   "cell_type": "code",
   "execution_count": 51,
   "metadata": {},
   "outputs": [
    {
     "name": "stdout",
     "output_type": "stream",
     "text": [
      "Bye\n",
      "Bye\n"
     ]
    }
   ],
   "source": [
    "def print_twice(bruce) :\n",
    "    print(bruce)\n",
    "    print(bruce)\n",
    "print_twice('Bye')"
   ]
  },
  {
   "cell_type": "code",
   "execution_count": 54,
   "metadata": {},
   "outputs": [
    {
     "name": "stdout",
     "output_type": "stream",
     "text": [
      "68.0\n"
     ]
    }
   ],
   "source": [
    "def farenheight(cel):\n",
    "    far =9/5 * cel + 32\n",
    "    print(far)\n",
    "farenheight(20)"
   ]
  },
  {
   "cell_type": "code",
   "execution_count": 55,
   "metadata": {},
   "outputs": [
    {
     "name": "stdout",
     "output_type": "stream",
     "text": [
      "0.8\n"
     ]
    }
   ],
   "source": [
    "def pie(out, inner):\n",
    "    p2 = 4* out/inner\n",
    "    print(p2)\n",
    "    \n",
    "pie(20, 100)\n",
    "\n"
   ]
  },
  {
   "cell_type": "code",
   "execution_count": 57,
   "metadata": {},
   "outputs": [],
   "source": [
    "import numpy as np #allows the generation of random numbers\n",
    "\n",
    "x = np.random.uniform(0, 1, 1000) #Creates an array of random numbers between 0 and 1 (1000 times)\n"
   ]
  },
  {
   "cell_type": "code",
   "execution_count": 58,
   "metadata": {},
   "outputs": [
    {
     "data": {
      "text/plain": [
       "array([0.29628606, 0.0393267 , 0.76410306, 0.71893753, 0.81044364,\n",
       "       0.5617933 , 0.18780699, 0.89869974, 0.95609055, 0.93271009,\n",
       "       0.0618771 , 0.8844022 , 0.35812533, 0.7191901 , 0.45287197,\n",
       "       0.7140636 , 0.84427873, 0.37267308, 0.7634252 , 0.92656717,\n",
       "       0.84475369, 0.65563381, 0.21528687, 0.27959039, 0.92714724,\n",
       "       0.42536775, 0.53190257, 0.16890206, 0.32502964, 0.84997053,\n",
       "       0.29133989, 0.12408386, 0.95226851, 0.20747538, 0.59270635,\n",
       "       0.43607957, 0.01771066, 0.76151846, 0.36807757, 0.9007952 ,\n",
       "       0.833794  , 0.45768691, 0.53959427, 0.66374319, 0.03294092,\n",
       "       0.10655642, 0.07171018, 0.75389531, 0.67530265, 0.97732308,\n",
       "       0.47690818, 0.74818626, 0.31656109, 0.00108657, 0.89775217,\n",
       "       0.42806672, 0.09274817, 0.30973972, 0.68076716, 0.7504004 ,\n",
       "       0.50288962, 0.05638327, 0.04259072, 0.20068937, 0.71628763,\n",
       "       0.88010319, 0.61575092, 0.54392139, 0.86130965, 0.01716519,\n",
       "       0.10467633, 0.75622154, 0.38299871, 0.55198084, 0.29981634,\n",
       "       0.32074551, 0.8254631 , 0.19631565, 0.82136832, 0.10288623,\n",
       "       0.57350761, 0.22202016, 0.21014197, 0.05717897, 0.70301541,\n",
       "       0.9975899 , 0.18780166, 0.2418606 , 0.07221621, 0.36592252,\n",
       "       0.37269632, 0.58335471, 0.07551048, 0.11305453, 0.44245753,\n",
       "       0.26158471, 0.45256576, 0.09428056, 0.48261039, 0.98308948,\n",
       "       0.79838272, 0.66034517, 0.91467842, 0.77156656, 0.77497465,\n",
       "       0.03041511, 0.55328477, 0.7361078 , 0.54503154, 0.83462542,\n",
       "       0.29437846, 0.35038371, 0.59575094, 0.08152426, 0.2724596 ,\n",
       "       0.6436713 , 0.66044532, 0.16746362, 0.73541479, 0.54215248,\n",
       "       0.67955794, 0.42194211, 0.92521721, 0.75540087, 0.22384516,\n",
       "       0.6150163 , 0.19005195, 0.00642135, 0.42867432, 0.71729751,\n",
       "       0.6200586 , 0.66955055, 0.00533775, 0.96472888, 0.05794786,\n",
       "       0.84615687, 0.43082423, 0.72962355, 0.25247003, 0.11990702,\n",
       "       0.3318652 , 0.96972398, 0.24938285, 0.56771392, 0.76222422,\n",
       "       0.17955762, 0.1820671 , 0.06990017, 0.43186886, 0.17551048,\n",
       "       0.47494415, 0.29069064, 0.87873137, 0.31429315, 0.03190073,\n",
       "       0.71283791, 0.23780466, 0.00878154, 0.57482179, 0.70414657,\n",
       "       0.91446918, 0.72252329, 0.31415516, 0.84285967, 0.57945569,\n",
       "       0.03380198, 0.94296207, 0.10064908, 0.93038959, 0.13096425,\n",
       "       0.94371602, 0.42686052, 0.26018151, 0.28372319, 0.74597038,\n",
       "       0.94046545, 0.51149906, 0.32748205, 0.82690604, 0.00228719,\n",
       "       0.13635144, 0.10565084, 0.81790801, 0.4704135 , 0.85626351,\n",
       "       0.74051092, 0.71710718, 0.30242315, 0.97818424, 0.48254006,\n",
       "       0.12625646, 0.20491179, 0.50509455, 0.49196612, 0.1907302 ,\n",
       "       0.65518696, 0.44954381, 0.28490415, 0.53906152, 0.01282801,\n",
       "       0.89689532, 0.55501552, 0.2082851 , 0.7240935 , 0.77750263,\n",
       "       0.91780601, 0.77185456, 0.85376655, 0.80009379, 0.83572276,\n",
       "       0.33687261, 0.62746759, 0.98540443, 0.49235547, 0.34430799,\n",
       "       0.2990425 , 0.25229903, 0.7941951 , 0.4226931 , 0.99674561,\n",
       "       0.82414576, 0.63579299, 0.37024485, 0.5209372 , 0.82065421,\n",
       "       0.93103936, 0.67169469, 0.11009345, 0.93616617, 0.35662895,\n",
       "       0.906668  , 0.35191641, 0.71380341, 0.70071085, 0.70140313,\n",
       "       0.98477154, 0.39777202, 0.59286205, 0.74663274, 0.33549451,\n",
       "       0.31337023, 0.46840145, 0.51298888, 0.62207412, 0.53807035,\n",
       "       0.44931446, 0.54090175, 0.0808632 , 0.77159576, 0.75929366,\n",
       "       0.01201337, 0.13581433, 0.28548111, 0.58334791, 0.47659129,\n",
       "       0.8491329 , 0.53446568, 0.29387251, 0.45527844, 0.50273819,\n",
       "       0.56304102, 0.6661743 , 0.52005661, 0.68059893, 0.96895048,\n",
       "       0.71077602, 0.77547397, 0.05286337, 0.34856193, 0.80535842,\n",
       "       0.12748951, 0.01269655, 0.05526215, 0.24639042, 0.12123553,\n",
       "       0.82880643, 0.24063023, 0.11428131, 0.16071213, 0.48954494,\n",
       "       0.13427218, 0.23409784, 0.06963965, 0.11617553, 0.36729213,\n",
       "       0.54808921, 0.63350279, 0.96881591, 0.00687338, 0.04150437,\n",
       "       0.82969438, 0.49411395, 0.5430313 , 0.28108727, 0.41169371,\n",
       "       0.90440649, 0.60540611, 0.15636944, 0.34188237, 0.84580465,\n",
       "       0.64618522, 0.54748232, 0.96830026, 0.90634086, 0.34953148,\n",
       "       0.94005676, 0.62827222, 0.6824627 , 0.99324747, 0.26536733,\n",
       "       0.06632129, 0.04082095, 0.48088488, 0.09498271, 0.48061224,\n",
       "       0.63910232, 0.03439719, 0.65553971, 0.41897913, 0.403075  ,\n",
       "       0.88611125, 0.83318184, 0.68449535, 0.68583251, 0.12393267,\n",
       "       0.17696622, 0.870421  , 0.06631392, 0.70441172, 0.45912415,\n",
       "       0.92267324, 0.27539886, 0.37865471, 0.30496423, 0.15691271,\n",
       "       0.80891177, 0.82089049, 0.66193163, 0.46626946, 0.35960826,\n",
       "       0.555106  , 0.23889917, 0.74034485, 0.19296571, 0.97953262,\n",
       "       0.36433909, 0.76346673, 0.58548705, 0.63611734, 0.28790232,\n",
       "       0.55699163, 0.13087773, 0.81586875, 0.44922716, 0.23885695,\n",
       "       0.08876091, 0.21193122, 0.14145901, 0.74852957, 0.77198143,\n",
       "       0.51073034, 0.60726497, 0.9273529 , 0.50730376, 0.79454244,\n",
       "       0.11933461, 0.824782  , 0.41537691, 0.51124206, 0.80486675,\n",
       "       0.10513238, 0.32274122, 0.4441104 , 0.75584831, 0.60330876,\n",
       "       0.97759912, 0.05713749, 0.31539539, 0.81389563, 0.27076677,\n",
       "       0.07607629, 0.38576771, 0.91344289, 0.41163807, 0.24722286,\n",
       "       0.95205177, 0.58148893, 0.2399694 , 0.90041922, 0.20806708,\n",
       "       0.12218049, 0.70486533, 0.68942097, 0.3817281 , 0.61319502,\n",
       "       0.29219986, 0.05828134, 0.22312728, 0.50893709, 0.34305029,\n",
       "       0.54813022, 0.97455362, 0.71798472, 0.75766057, 0.63941522,\n",
       "       0.71145259, 0.05023148, 0.29461801, 0.5467849 , 0.72946219,\n",
       "       0.98425465, 0.06572541, 0.31162272, 0.5295157 , 0.86352178,\n",
       "       0.31259251, 0.84461754, 0.87280083, 0.99382223, 0.28425383,\n",
       "       0.89447366, 0.53439753, 0.98150951, 0.37781161, 0.61747082,\n",
       "       0.78944263, 0.51243385, 0.89133516, 0.6022093 , 0.58069699,\n",
       "       0.45092102, 0.32687045, 0.127992  , 0.56314309, 0.10518264,\n",
       "       0.24163235, 0.57408257, 0.89619359, 0.62070464, 0.94625728,\n",
       "       0.74826642, 0.17466943, 0.23010082, 0.69890467, 0.711934  ,\n",
       "       0.43815801, 0.5205234 , 0.60164   , 0.01330627, 0.78416248,\n",
       "       0.56057762, 0.79672662, 0.66993286, 0.03004479, 0.48643682,\n",
       "       0.96389524, 0.97575056, 0.04409496, 0.9477796 , 0.6782338 ,\n",
       "       0.62680149, 0.0307664 , 0.5631866 , 0.99555642, 0.77245108,\n",
       "       0.60448189, 0.43264087, 0.81899772, 0.9032845 , 0.77990948,\n",
       "       0.36188484, 0.87774233, 0.67513565, 0.35258375, 0.84949198,\n",
       "       0.61899492, 0.90222429, 0.31028407, 0.4898299 , 0.79515067,\n",
       "       0.16017396, 0.75049943, 0.38733556, 0.43136591, 0.89255607,\n",
       "       0.85639412, 0.08385285, 0.629063  , 0.85290572, 0.37453054,\n",
       "       0.62502426, 0.60585008, 0.81155555, 0.16381868, 0.1536027 ,\n",
       "       0.53462543, 0.32488709, 0.7340673 , 0.21957798, 0.66276008,\n",
       "       0.07976063, 0.4595441 , 0.2904485 , 0.43700729, 0.70369569,\n",
       "       0.03013143, 0.49675119, 0.71178166, 0.61777402, 0.53275712,\n",
       "       0.84072916, 0.95100722, 0.03244557, 0.87008146, 0.59831334,\n",
       "       0.13985363, 0.26622444, 0.61436687, 0.19305876, 0.57139022,\n",
       "       0.67832721, 0.07302253, 0.43028994, 0.61358527, 0.72635762,\n",
       "       0.31219939, 0.26652668, 0.81669858, 0.0951315 , 0.55583565,\n",
       "       0.69639618, 0.58807657, 0.18134515, 0.27671541, 0.82936303,\n",
       "       0.43589837, 0.63033897, 0.01720587, 0.43169161, 0.49592352,\n",
       "       0.59499842, 0.62573384, 0.87038963, 0.84316978, 0.94276473,\n",
       "       0.06787737, 0.98569074, 0.28202765, 0.95788327, 0.28773183,\n",
       "       0.26068164, 0.4016702 , 0.14414614, 0.54238087, 0.30888968,\n",
       "       0.48514407, 0.24138159, 0.03239758, 0.77805448, 0.70402898,\n",
       "       0.29710473, 0.97161158, 0.46286406, 0.32971616, 0.60219584,\n",
       "       0.89967809, 0.91163253, 0.71476314, 0.40204193, 0.03367816,\n",
       "       0.44555787, 0.6195715 , 0.2044682 , 0.42410508, 0.82445781,\n",
       "       0.14930147, 0.61864765, 0.40825057, 0.29639225, 0.98754618,\n",
       "       0.7115805 , 0.84824333, 0.46980705, 0.43638913, 0.37800483,\n",
       "       0.73878354, 0.55920434, 0.98633105, 0.15982321, 0.90949607,\n",
       "       0.74244391, 0.25651333, 0.40550018, 0.10165745, 0.85116132,\n",
       "       0.93095511, 0.08628569, 0.51951006, 0.40873684, 0.49429664,\n",
       "       0.8476395 , 0.4984989 , 0.80376712, 0.79383531, 0.90331199,\n",
       "       0.90138361, 0.13464798, 0.52941586, 0.12257142, 0.42767295,\n",
       "       0.26208845, 0.06593556, 0.56562262, 0.6624261 , 0.58443727,\n",
       "       0.7589624 , 0.58268432, 0.34912287, 0.57844985, 0.63013404,\n",
       "       0.17957444, 0.70478507, 0.16091944, 0.38263789, 0.0690117 ,\n",
       "       0.0714955 , 0.01519234, 0.07541575, 0.16583407, 0.03019701,\n",
       "       0.60381849, 0.31095644, 0.25125395, 0.85098694, 0.62710793,\n",
       "       0.97930584, 0.36972561, 0.62366256, 0.13637961, 0.36740057,\n",
       "       0.97489824, 0.34253819, 0.88759385, 0.2205283 , 0.75217498,\n",
       "       0.58663837, 0.69770366, 0.58655572, 0.2254348 , 0.71705693,\n",
       "       0.39170908, 0.40748168, 0.31903072, 0.70675388, 0.69055823,\n",
       "       0.41493071, 0.77287742, 0.8394244 , 0.60701425, 0.55446372,\n",
       "       0.12134408, 0.26843966, 0.78057605, 0.08728126, 0.151759  ,\n",
       "       0.15279347, 0.29819599, 0.57792767, 0.91491468, 0.13943228,\n",
       "       0.56508995, 0.87828795, 0.43069769, 0.40271186, 0.77560518,\n",
       "       0.4389661 , 0.61462962, 0.48627411, 0.37987974, 0.00270637,\n",
       "       0.63180418, 0.18259307, 0.49004674, 0.44573106, 0.96987886,\n",
       "       0.97001859, 0.44701006, 0.58030271, 0.84387186, 0.63436648,\n",
       "       0.72939801, 0.15027343, 0.05314057, 0.82611706, 0.84497799,\n",
       "       0.96388552, 0.58548145, 0.06008554, 0.57153516, 0.77690155,\n",
       "       0.61652371, 0.80791506, 0.27709127, 0.64439701, 0.14766113,\n",
       "       0.36083748, 0.38373236, 0.66001473, 0.3547179 , 0.28283065,\n",
       "       0.14075526, 0.25379951, 0.63382276, 0.85466856, 0.05450105,\n",
       "       0.20321731, 0.19902717, 0.90410514, 0.32677187, 0.18851757,\n",
       "       0.93917164, 0.4528743 , 0.28235517, 0.13927416, 0.80355471,\n",
       "       0.37596896, 0.06824903, 0.5835907 , 0.76377523, 0.33610583,\n",
       "       0.07563162, 0.28890736, 0.09635867, 0.87309084, 0.32402044,\n",
       "       0.80096807, 0.95061796, 0.32563153, 0.47215089, 0.03757037,\n",
       "       0.74085027, 0.2352289 , 0.91743085, 0.0583038 , 0.91873146,\n",
       "       0.78616693, 0.81133821, 0.65653545, 0.70486601, 0.00609795,\n",
       "       0.90238252, 0.4098095 , 0.32832186, 0.75612146, 0.31793201,\n",
       "       0.18141461, 0.97155248, 0.47797192, 0.3198311 , 0.16972635,\n",
       "       0.56615558, 0.97999343, 0.64796659, 0.5233493 , 0.89737336,\n",
       "       0.07914729, 0.66984366, 0.02297118, 0.06837456, 0.89485158,\n",
       "       0.47821703, 0.52947583, 0.47466223, 0.67292534, 0.45079105,\n",
       "       0.64075286, 0.49278069, 0.48395349, 0.91892794, 0.58627357,\n",
       "       0.92718907, 0.38867996, 0.78520428, 0.04539972, 0.44546889,\n",
       "       0.41187577, 0.36036896, 0.3605691 , 0.25544589, 0.03505157,\n",
       "       0.37393664, 0.30206887, 0.89075737, 0.73173831, 0.94111706,\n",
       "       0.22633943, 0.25168603, 0.93914903, 0.02380377, 0.67390608,\n",
       "       0.30506549, 0.80368417, 0.07106396, 0.30630095, 0.99819334,\n",
       "       0.26303912, 0.23563252, 0.21440235, 0.92813084, 0.12398294,\n",
       "       0.51333598, 0.14636897, 0.36614886, 0.68247349, 0.14669513,\n",
       "       0.80878747, 0.13269096, 0.01641536, 0.9641824 , 0.80420268,\n",
       "       0.54609787, 0.58630768, 0.0031024 , 0.30900421, 0.59155668,\n",
       "       0.13108375, 0.30504863, 0.21166022, 0.95831175, 0.92341176,\n",
       "       0.98370449, 0.20688091, 0.47546551, 0.64583422, 0.85358663,\n",
       "       0.29394187, 0.81103637, 0.86329871, 0.91683748, 0.33808109,\n",
       "       0.93640946, 0.01081703, 0.06532736, 0.02658718, 0.48120303,\n",
       "       0.72900492, 0.51256401, 0.99213385, 0.30372034, 0.02383575,\n",
       "       0.91612487, 0.96565348, 0.70284504, 0.05280908, 0.17670396,\n",
       "       0.47478778, 0.56237267, 0.4265089 , 0.89441687, 0.1107509 ,\n",
       "       0.62156506, 0.50536957, 0.42138417, 0.66702474, 0.97640246,\n",
       "       0.93599681, 0.92148306, 0.95516973, 0.85724984, 0.79412795,\n",
       "       0.66550684, 0.88499179, 0.9970207 , 0.54593512, 0.87113916,\n",
       "       0.40854789, 0.04551991, 0.56423358, 0.72447204, 0.51130504,\n",
       "       0.1189079 , 0.64680096, 0.96247628, 0.16020182, 0.60504585,\n",
       "       0.79656722, 0.76170247, 0.71044607, 0.32816247, 0.35611153,\n",
       "       0.95734342, 0.89528424, 0.21987612, 0.97572275, 0.99865809,\n",
       "       0.81136268, 0.98805532, 0.38970252, 0.4327079 , 0.63928796,\n",
       "       0.29883905, 0.30294742, 0.68982389, 0.16114127, 0.80229526,\n",
       "       0.53133538, 0.7176713 , 0.43138766, 0.08113932, 0.65777248,\n",
       "       0.66923976, 0.88214461, 0.35881095, 0.19582994, 0.7251841 ,\n",
       "       0.36438163, 0.05202039, 0.73498758, 0.24704426, 0.77980101,\n",
       "       0.81802932, 0.54575497, 0.67032378, 0.17641422, 0.7644769 ,\n",
       "       0.42816005, 0.70296695, 0.52166917, 0.36433815, 0.09870091,\n",
       "       0.30894754, 0.39202602, 0.06908535, 0.68020514, 0.91990953,\n",
       "       0.57279914, 0.14284128, 0.51005928, 0.66986076, 0.95132676,\n",
       "       0.50700845, 0.52530226, 0.02233339, 0.89807144, 0.83737134,\n",
       "       0.02581506, 0.37362846, 0.44880491, 0.43213523, 0.88570399,\n",
       "       0.85281692, 0.15172193, 0.9134631 , 0.72109159, 0.11647297,\n",
       "       0.07905975, 0.5753926 , 0.27799226, 0.97785267, 0.40180264,\n",
       "       0.36229776, 0.34281972, 0.48108328, 0.76847797, 0.2711228 ,\n",
       "       0.99076898, 0.34623621, 0.98483258, 0.95810325, 0.53366908,\n",
       "       0.81437351, 0.99030393, 0.90778824, 0.46057061, 0.56340682,\n",
       "       0.83248019, 0.44268436, 0.72773962, 0.3338704 , 0.06825557,\n",
       "       0.95321306, 0.26794219, 0.75493568, 0.07588283, 0.71244154,\n",
       "       0.89842565, 0.80365258, 0.11509673, 0.03575189, 0.81810861,\n",
       "       0.72606468, 0.25621141, 0.52066736, 0.8520156 , 0.26825532,\n",
       "       0.87264804, 0.25572769, 0.45892279, 0.94476811, 0.9894889 ])"
      ]
     },
     "execution_count": 58,
     "metadata": {},
     "output_type": "execute_result"
    }
   ],
   "source": [
    "x"
   ]
  },
  {
   "cell_type": "code",
   "execution_count": 59,
   "metadata": {},
   "outputs": [],
   "source": [
    "y = np.random.uniform(0, 1, 1000)"
   ]
  },
  {
   "cell_type": "code",
   "execution_count": 60,
   "metadata": {},
   "outputs": [
    {
     "data": {
      "text/plain": [
       "array([2.00615231e-01, 4.77403149e-01, 1.76749073e-01, 3.27269603e-02,\n",
       "       6.33916893e-01, 3.05467222e-02, 5.87414959e-01, 2.84337730e-01,\n",
       "       9.57029175e-01, 9.24498428e-01, 6.97155033e-01, 6.66510322e-01,\n",
       "       7.13141469e-01, 3.44825406e-01, 3.50276302e-02, 7.44284168e-01,\n",
       "       2.52803914e-01, 4.00894630e-01, 1.77958662e-02, 6.08315599e-01,\n",
       "       6.85657710e-01, 6.87483330e-01, 5.13738232e-01, 4.67798681e-01,\n",
       "       3.39114108e-01, 8.25257418e-01, 1.63175703e-01, 7.58095982e-01,\n",
       "       3.28967706e-01, 7.01760004e-02, 1.68637822e-02, 3.28959172e-01,\n",
       "       7.72120734e-01, 4.75161697e-01, 1.53455304e-01, 9.23676195e-01,\n",
       "       5.11432326e-01, 1.22542431e-01, 5.50850097e-01, 5.43719606e-01,\n",
       "       8.44198624e-01, 2.08778568e-01, 3.38187306e-01, 1.92548489e-01,\n",
       "       5.31863910e-01, 3.86905691e-01, 9.60017615e-01, 4.12141060e-01,\n",
       "       9.06248698e-01, 7.00306753e-01, 2.46239500e-01, 5.01850872e-01,\n",
       "       6.10720685e-01, 1.58792167e-01, 9.42078388e-01, 5.82110649e-01,\n",
       "       8.88435043e-01, 4.40631448e-01, 6.28984793e-01, 8.54311251e-01,\n",
       "       8.52535513e-01, 3.55129601e-01, 7.49641600e-01, 9.86748378e-01,\n",
       "       2.80946645e-01, 5.80337146e-01, 6.34076540e-01, 7.82844695e-01,\n",
       "       1.69959014e-01, 1.64186214e-01, 7.05441768e-02, 4.92990480e-01,\n",
       "       2.66923508e-01, 1.94238321e-01, 2.91969628e-01, 2.96802154e-01,\n",
       "       1.68045465e-01, 7.86527705e-01, 9.28629105e-01, 2.59532082e-01,\n",
       "       7.82767378e-01, 6.95765303e-01, 2.06589436e-01, 3.06290678e-01,\n",
       "       8.68335933e-01, 6.46480361e-01, 4.77733698e-01, 8.72901916e-01,\n",
       "       8.02488876e-01, 9.53907899e-01, 8.90027277e-01, 5.18435925e-01,\n",
       "       8.02619399e-02, 9.63281627e-02, 8.90392239e-01, 8.48759276e-01,\n",
       "       7.92573033e-01, 7.99171143e-01, 7.06184722e-01, 5.26808802e-01,\n",
       "       8.14388517e-01, 3.91747849e-01, 1.73133351e-01, 5.65328357e-02,\n",
       "       3.77828278e-01, 9.51606623e-01, 1.83111558e-01, 3.31859820e-01,\n",
       "       5.94872421e-01, 1.43194577e-02, 3.86236325e-01, 2.03578992e-02,\n",
       "       1.28192731e-01, 4.10629085e-01, 7.06407980e-01, 6.83553441e-01,\n",
       "       1.44053190e-01, 9.88244564e-01, 3.86583960e-01, 9.75292765e-01,\n",
       "       8.33126971e-01, 2.74561906e-01, 4.51605790e-01, 6.39704076e-02,\n",
       "       1.01115621e-01, 6.23144542e-01, 7.82879174e-01, 3.63132146e-01,\n",
       "       3.08746407e-01, 4.33923776e-01, 3.25478987e-02, 4.11191184e-01,\n",
       "       5.11572049e-01, 1.91888870e-01, 9.51347426e-01, 1.08356831e-01,\n",
       "       6.98176016e-01, 7.82676847e-01, 6.84938657e-01, 9.55131092e-01,\n",
       "       9.45034137e-01, 3.17985609e-01, 7.39780733e-01, 8.02943133e-01,\n",
       "       1.46243333e-01, 7.12711106e-01, 5.83522374e-01, 3.64952773e-01,\n",
       "       5.61490567e-01, 6.44893891e-02, 1.63603901e-01, 9.72253833e-01,\n",
       "       5.40760544e-02, 9.44010489e-01, 2.08082740e-01, 7.47345673e-01,\n",
       "       6.32320337e-01, 8.79045418e-02, 6.30930223e-01, 6.71563605e-01,\n",
       "       5.68690723e-02, 1.78715331e-01, 1.17853532e-01, 2.85770615e-01,\n",
       "       4.56189458e-01, 3.86893565e-01, 9.63874908e-01, 5.57624898e-01,\n",
       "       3.66616231e-03, 7.28914189e-01, 9.65353633e-01, 2.28826601e-01,\n",
       "       4.32039895e-03, 4.59950044e-01, 1.01787925e-01, 9.46895411e-01,\n",
       "       7.31672529e-01, 7.67711279e-01, 8.59696495e-01, 6.06679938e-01,\n",
       "       6.52530447e-01, 5.99817743e-03, 9.58995000e-01, 9.20225379e-01,\n",
       "       4.12596403e-02, 8.17250336e-01, 1.29392244e-01, 2.71670032e-01,\n",
       "       3.69142265e-01, 8.95246103e-01, 2.22121602e-01, 5.14148467e-01,\n",
       "       6.91265672e-01, 9.00921048e-01, 6.12121214e-01, 3.00830603e-01,\n",
       "       4.91872938e-01, 6.21161184e-02, 1.91529272e-01, 1.48812177e-01,\n",
       "       6.23555164e-01, 8.96326878e-01, 6.24845388e-02, 2.62382665e-01,\n",
       "       1.82323889e-01, 9.75909205e-01, 7.11162844e-01, 5.51466235e-01,\n",
       "       1.38876601e-01, 8.69588909e-01, 9.02655033e-01, 9.10343993e-01,\n",
       "       3.26301175e-01, 7.06993771e-01, 9.16480729e-01, 3.77059693e-01,\n",
       "       8.21422898e-01, 9.25172462e-01, 5.23005696e-01, 2.87864535e-01,\n",
       "       3.54811286e-01, 3.57515133e-01, 8.00957605e-02, 6.61833427e-02,\n",
       "       9.08583194e-01, 3.67181635e-02, 1.35712729e-02, 4.18866587e-02,\n",
       "       8.57146529e-01, 8.62507709e-01, 7.89079183e-01, 7.07051299e-01,\n",
       "       1.66500256e-01, 1.43725180e-01, 1.18221901e-01, 1.85200064e-01,\n",
       "       1.10610238e-01, 1.85483154e-02, 5.01334090e-01, 8.96748741e-01,\n",
       "       1.05490900e-01, 8.74479650e-01, 9.57728836e-01, 8.78548924e-01,\n",
       "       3.36875041e-01, 9.67184794e-01, 2.72945411e-01, 8.44012262e-02,\n",
       "       6.81889663e-01, 1.97870223e-01, 5.41335324e-02, 1.22034262e-01,\n",
       "       4.55707977e-01, 4.18132828e-01, 8.73720314e-01, 8.01761928e-01,\n",
       "       2.57138985e-01, 3.27697233e-01, 2.19021605e-01, 1.05302026e-01,\n",
       "       4.75597061e-01, 3.05243244e-01, 6.09305304e-01, 1.97863654e-02,\n",
       "       3.52989976e-01, 5.24006084e-01, 4.10811939e-01, 5.86991671e-01,\n",
       "       1.67486335e-01, 1.01326438e-01, 6.37837994e-01, 4.34037309e-01,\n",
       "       6.74867847e-01, 6.72441790e-01, 8.95716838e-02, 9.01196197e-01,\n",
       "       2.40449866e-01, 6.38807450e-01, 2.17882941e-03, 5.89461692e-01,\n",
       "       7.64496507e-02, 7.65168905e-01, 7.52090320e-01, 2.62040156e-01,\n",
       "       1.52846100e-01, 1.66900528e-01, 2.01684467e-01, 4.86539791e-01,\n",
       "       9.71976375e-01, 9.17506215e-01, 8.79449302e-01, 3.03320976e-01,\n",
       "       4.70663171e-01, 8.44871276e-01, 2.79788184e-01, 2.46550465e-01,\n",
       "       9.16328219e-01, 3.20895334e-01, 7.30166703e-01, 3.71268350e-04,\n",
       "       1.56534099e-01, 6.06152204e-01, 8.25832607e-01, 5.42843398e-01,\n",
       "       7.22360927e-01, 3.85528468e-01, 4.34443031e-01, 8.72818456e-01,\n",
       "       7.82138379e-01, 3.26447609e-01, 2.66898568e-02, 5.98386941e-01,\n",
       "       9.62436732e-01, 2.80020921e-01, 1.53080030e-01, 6.88241067e-01,\n",
       "       5.94243501e-01, 2.31943967e-01, 8.58740791e-01, 6.94060631e-01,\n",
       "       3.93819217e-01, 3.44219074e-02, 2.63922956e-01, 1.97726901e-01,\n",
       "       2.63914218e-01, 4.79442129e-01, 1.02973585e-02, 2.22555225e-01,\n",
       "       8.45181019e-01, 4.46631741e-01, 4.13635598e-01, 6.03608262e-01,\n",
       "       8.31933451e-01, 3.40356425e-01, 6.79893030e-01, 9.76892255e-01,\n",
       "       7.66162203e-01, 8.49898351e-01, 8.07385619e-01, 9.69543463e-01,\n",
       "       4.11303037e-01, 9.05272276e-01, 6.49817491e-01, 8.29013480e-01,\n",
       "       2.38949804e-01, 7.71316913e-01, 7.68592890e-01, 4.95568068e-01,\n",
       "       5.88817075e-01, 7.30085495e-01, 2.34653321e-02, 8.92352088e-01,\n",
       "       5.37768684e-02, 9.92918879e-01, 8.32678983e-01, 6.76770948e-01,\n",
       "       7.77449724e-01, 8.99118980e-01, 8.19246845e-01, 8.81504260e-01,\n",
       "       2.12793031e-01, 8.02383288e-01, 9.17761769e-01, 3.11787117e-01,\n",
       "       8.82182572e-01, 2.48439244e-02, 5.86446585e-01, 4.40956774e-02,\n",
       "       9.34939653e-01, 3.11211462e-01, 6.25088227e-01, 5.14245299e-01,\n",
       "       2.49644625e-01, 3.22157468e-01, 1.03005793e-01, 9.27057959e-01,\n",
       "       6.24017672e-01, 6.56142976e-01, 3.77522187e-01, 7.13301253e-01,\n",
       "       2.98993009e-01, 5.75386834e-01, 9.35578739e-01, 5.36252525e-01,\n",
       "       1.71567043e-01, 1.92756719e-01, 3.67239004e-01, 4.69549248e-01,\n",
       "       3.32808719e-01, 2.48920977e-01, 3.91938472e-01, 3.62207515e-01,\n",
       "       4.69945559e-01, 6.97158880e-01, 5.32774945e-01, 4.04956941e-01,\n",
       "       1.23638483e-01, 3.99193845e-01, 9.49094454e-01, 4.65062910e-01,\n",
       "       7.72627826e-01, 8.01643801e-01, 8.69652249e-02, 3.11905158e-01,\n",
       "       3.37729886e-01, 5.34432673e-01, 9.19188131e-01, 8.29397606e-01,\n",
       "       6.60793355e-01, 3.98552138e-01, 3.45630795e-01, 4.21060209e-01,\n",
       "       3.10560936e-01, 3.93377232e-01, 5.00683234e-01, 4.44404160e-01,\n",
       "       7.92104367e-01, 6.40580385e-01, 9.90225101e-02, 1.01741121e-01,\n",
       "       6.73424689e-01, 9.23735841e-01, 1.61881583e-02, 4.03589141e-01,\n",
       "       9.10880692e-01, 5.68572845e-01, 1.25772898e-01, 5.70883812e-01,\n",
       "       3.65893475e-01, 7.39763189e-01, 2.39983825e-01, 3.94651962e-01,\n",
       "       1.24483478e-02, 4.53320488e-01, 1.27986544e-02, 6.95624254e-02,\n",
       "       7.44263507e-01, 6.48521878e-01, 3.76474846e-02, 6.60184808e-01,\n",
       "       5.43557600e-02, 8.69148499e-01, 1.20967741e-01, 5.30819579e-01,\n",
       "       7.52645473e-01, 2.70111984e-01, 6.80655736e-01, 4.07176902e-01,\n",
       "       9.27666382e-01, 8.54861109e-01, 2.06260333e-01, 5.88262662e-02,\n",
       "       9.12949174e-01, 7.36313181e-01, 9.54013524e-01, 6.85381422e-01,\n",
       "       4.52752554e-02, 5.00383386e-01, 8.86393003e-01, 5.64611827e-01,\n",
       "       3.27357111e-01, 5.80758862e-01, 9.57279151e-01, 4.94312989e-01,\n",
       "       6.56155790e-01, 3.07163366e-02, 5.90604462e-01, 5.00614304e-01,\n",
       "       5.12976258e-01, 5.69891671e-01, 5.91194905e-01, 1.30158368e-01,\n",
       "       5.45133728e-01, 2.95215972e-01, 6.06439740e-01, 6.63177473e-01,\n",
       "       1.88163550e-01, 2.41340337e-01, 8.10667614e-01, 1.40222943e-01,\n",
       "       9.31610522e-01, 4.24111445e-02, 5.51353800e-01, 7.35417494e-01,\n",
       "       8.22969982e-01, 1.89220193e-01, 3.92457404e-01, 3.65007275e-01,\n",
       "       7.58393749e-02, 5.55389334e-01, 4.20705944e-01, 2.75999660e-01,\n",
       "       6.46078336e-01, 2.05685465e-01, 8.89495125e-01, 6.09678288e-01,\n",
       "       4.28059070e-01, 1.41282285e-01, 7.16257031e-01, 3.10749258e-02,\n",
       "       8.79341970e-01, 7.45848464e-01, 4.09859507e-01, 4.51461169e-01,\n",
       "       4.64313495e-01, 3.50593405e-01, 8.52715733e-01, 4.07878112e-01,\n",
       "       5.41895345e-01, 4.95597662e-01, 4.94951846e-01, 3.18443223e-01,\n",
       "       7.82683962e-02, 4.22398747e-01, 6.13058652e-01, 6.23071354e-01,\n",
       "       2.83103234e-01, 3.38183316e-01, 2.69472351e-01, 5.46471329e-01,\n",
       "       8.12454976e-01, 4.07418888e-02, 9.31706667e-01, 6.00007086e-01,\n",
       "       9.60058449e-01, 7.51265239e-03, 1.83878253e-01, 9.54824700e-01,\n",
       "       1.42971525e-01, 4.38334273e-01, 3.45256549e-01, 2.63602105e-01,\n",
       "       3.93261230e-01, 4.76218765e-01, 7.96010440e-01, 8.55838141e-01,\n",
       "       6.63349189e-01, 2.84585470e-01, 1.12351269e-01, 3.77162912e-01,\n",
       "       7.15172022e-01, 6.29896595e-01, 6.82729188e-01, 4.08339141e-01,\n",
       "       2.58661130e-01, 6.14401618e-01, 1.02266021e-01, 1.43553726e-01,\n",
       "       9.70956709e-01, 5.33058122e-01, 3.36848645e-01, 8.18390586e-01,\n",
       "       9.32549790e-01, 5.72958528e-01, 8.96391447e-01, 7.67668888e-01,\n",
       "       6.35288198e-01, 1.39698061e-01, 2.54833585e-01, 4.14919215e-02,\n",
       "       3.72025114e-01, 2.45410022e-01, 5.33858149e-02, 5.28426177e-01,\n",
       "       7.19927668e-02, 1.54026823e-01, 5.05173286e-01, 9.06161719e-01,\n",
       "       5.67254944e-01, 4.52606805e-01, 6.44050650e-01, 7.08078423e-01,\n",
       "       3.20887131e-01, 3.37980750e-01, 1.96115348e-01, 2.28723408e-04,\n",
       "       9.46910746e-01, 9.15446813e-01, 2.14645968e-01, 7.43225281e-01,\n",
       "       5.99122976e-01, 7.97489364e-01, 2.68277549e-01, 8.81428832e-01,\n",
       "       1.99920869e-01, 1.54827355e-01, 1.94993222e-01, 7.21738851e-01,\n",
       "       1.00392477e-01, 7.30717415e-01, 4.96793864e-01, 7.95382758e-01,\n",
       "       4.10187516e-01, 8.83528433e-01, 7.10557580e-01, 2.59673413e-01,\n",
       "       3.66690009e-01, 4.99499240e-01, 7.63276900e-01, 9.14050552e-01,\n",
       "       5.69596619e-02, 7.41050955e-01, 9.61011624e-02, 4.64740927e-01,\n",
       "       9.86943729e-01, 1.75675013e-01, 1.23220160e-01, 3.51474573e-01,\n",
       "       6.70563561e-01, 9.25367126e-01, 9.51045033e-01, 7.63591575e-01,\n",
       "       4.15705243e-01, 8.14172597e-01, 9.94607499e-01, 3.97730447e-01,\n",
       "       2.06255285e-01, 5.16897895e-01, 1.54390179e-01, 1.84297470e-01,\n",
       "       4.62948111e-01, 5.25042629e-01, 8.08749790e-01, 5.44362036e-01,\n",
       "       2.09213756e-01, 7.45488299e-01, 9.91062940e-01, 4.82616853e-01,\n",
       "       7.83057254e-01, 5.62490003e-01, 2.22019775e-01, 7.54496267e-01,\n",
       "       7.56664170e-01, 9.73905044e-01, 1.02878813e-01, 3.06144160e-01,\n",
       "       2.37641327e-01, 1.86827966e-01, 4.10984602e-01, 4.96129935e-01,\n",
       "       8.36511825e-01, 7.08028468e-01, 6.36248947e-01, 4.34568690e-01,\n",
       "       3.69587185e-01, 1.65967355e-01, 8.35634481e-01, 2.86155013e-01,\n",
       "       8.97104465e-01, 1.34622315e-01, 1.78861949e-01, 5.55407056e-01,\n",
       "       2.88379949e-01, 9.14209130e-01, 6.66364553e-01, 7.64028627e-01,\n",
       "       7.57698860e-02, 4.72911000e-01, 6.11754148e-02, 6.41612128e-01,\n",
       "       7.61880104e-01, 5.55631520e-02, 9.50907182e-01, 7.20792146e-01,\n",
       "       6.63120310e-02, 9.02728709e-01, 9.78289152e-01, 9.24032821e-01,\n",
       "       4.37540878e-01, 9.17247306e-02, 4.60700295e-01, 7.08781940e-01,\n",
       "       5.78901302e-01, 3.48342051e-01, 8.50843365e-01, 9.04462537e-01,\n",
       "       6.82645435e-01, 7.44300898e-01, 5.05688947e-01, 8.95405693e-01,\n",
       "       3.15752953e-01, 7.50014142e-01, 9.89010563e-02, 2.19068009e-01,\n",
       "       4.28886006e-01, 9.08704140e-01, 1.66606131e-01, 9.59973450e-01,\n",
       "       7.57415001e-01, 5.16216986e-01, 6.38096323e-01, 2.47951050e-01,\n",
       "       7.38192502e-01, 9.10675234e-01, 2.15737984e-01, 8.61057085e-01,\n",
       "       1.47288766e-01, 9.53062633e-01, 3.62939398e-01, 2.24576250e-01,\n",
       "       1.95907017e-01, 3.50246106e-01, 7.16763523e-01, 3.78150271e-01,\n",
       "       3.99434554e-01, 2.85950138e-01, 5.49104065e-01, 9.54731435e-01,\n",
       "       9.80104572e-01, 9.48813810e-01, 1.24700863e-01, 1.51869606e-01,\n",
       "       1.96912905e-01, 2.20465548e-01, 7.07114468e-01, 3.34006359e-01,\n",
       "       7.78910618e-02, 4.70418748e-01, 6.42582817e-01, 5.55541724e-01,\n",
       "       4.67922346e-01, 1.94472969e-01, 1.46644087e-01, 9.88629575e-01,\n",
       "       8.11634472e-01, 1.41352218e-01, 1.65658647e-02, 8.84790262e-01,\n",
       "       5.02131215e-01, 5.09516631e-01, 1.42522145e-01, 3.60525021e-01,\n",
       "       5.50534666e-01, 6.74264594e-01, 8.38707753e-01, 4.94929841e-02,\n",
       "       4.95186122e-01, 4.66621384e-01, 8.69199038e-01, 5.39764208e-01,\n",
       "       7.52999476e-01, 7.56126168e-01, 2.92419695e-01, 6.19581726e-01,\n",
       "       2.21897732e-01, 7.27375069e-01, 4.52926282e-01, 8.75869061e-02,\n",
       "       4.70888850e-02, 5.42577940e-01, 1.02508025e-01, 5.43433837e-01,\n",
       "       2.76638115e-02, 1.57969011e-01, 7.74327932e-01, 1.60577980e-02,\n",
       "       2.51129516e-01, 2.61905990e-01, 4.71746746e-01, 8.81794576e-01,\n",
       "       7.40431085e-01, 3.34982264e-01, 8.30870786e-01, 7.57810941e-01,\n",
       "       8.14087657e-01, 4.78791034e-01, 5.98433728e-01, 6.51115717e-01,\n",
       "       8.93431092e-01, 2.96608977e-01, 2.74747821e-01, 2.81874615e-01,\n",
       "       2.84698712e-01, 7.70134554e-01, 1.42164061e-01, 7.63778651e-01,\n",
       "       4.48206991e-01, 3.60626357e-01, 3.09176125e-01, 6.02743225e-01,\n",
       "       5.03116172e-04, 3.71447630e-01, 2.84293322e-01, 4.44018632e-01,\n",
       "       7.41912224e-01, 5.48346850e-02, 7.82025518e-01, 5.79017932e-01,\n",
       "       8.61904504e-01, 8.82956620e-01, 8.81443208e-01, 8.31224901e-01,\n",
       "       3.76855734e-01, 5.04957170e-01, 5.08822425e-01, 4.46711388e-01,\n",
       "       1.00052340e-01, 1.53000547e-01, 6.83819448e-01, 8.82839293e-02,\n",
       "       5.63036727e-01, 8.20295364e-01, 1.52063686e-01, 3.83218545e-01,\n",
       "       6.97012964e-01, 6.02344638e-01, 9.65892666e-01, 1.86589112e-01,\n",
       "       9.14303444e-01, 7.81169947e-01, 1.47652667e-02, 9.34816415e-01,\n",
       "       6.89274508e-01, 3.35715154e-01, 8.93316517e-01, 7.92615767e-01,\n",
       "       4.60168563e-02, 6.57454377e-01, 7.95855055e-01, 2.82586457e-01,\n",
       "       4.07972706e-01, 7.67963678e-01, 7.51662220e-01, 6.84887049e-01,\n",
       "       1.87229741e-01, 3.55236342e-01, 8.26393650e-01, 7.21556440e-02,\n",
       "       2.48152932e-01, 8.19759667e-01, 9.38962075e-01, 6.19103216e-01,\n",
       "       8.84784263e-01, 1.14644508e-01, 7.67937661e-01, 6.75985035e-01,\n",
       "       5.40355145e-01, 7.75610507e-01, 9.91516540e-01, 7.28719770e-01,\n",
       "       7.31643833e-01, 6.21385878e-01, 4.59425739e-02, 7.22957361e-01,\n",
       "       3.63354794e-01, 1.46679112e-01, 3.17296615e-01, 9.38733925e-01,\n",
       "       4.79321268e-01, 1.77465108e-01, 5.58972562e-01, 2.83682414e-01,\n",
       "       2.43433165e-01, 6.28555553e-01, 2.69755642e-02, 3.55113174e-01,\n",
       "       8.29501761e-02, 1.43717451e-01, 4.59404123e-01, 2.89263573e-01,\n",
       "       8.73800345e-01, 8.33137485e-01, 5.17873626e-01, 6.84420442e-01,\n",
       "       7.03553549e-02, 9.46258577e-01, 5.18230686e-01, 2.17786233e-01,\n",
       "       3.11870865e-02, 9.28380134e-02, 4.42622043e-01, 4.77234398e-01,\n",
       "       8.56636863e-01, 2.95726376e-01, 4.20482850e-01, 2.03027132e-01,\n",
       "       6.56598531e-01, 7.84420780e-01, 5.82304634e-01, 3.20849158e-01,\n",
       "       8.28440184e-01, 1.17794197e-01, 5.02925526e-01, 8.40594416e-01,\n",
       "       7.10060677e-01, 8.24994331e-01, 6.55889441e-01, 7.86584978e-01,\n",
       "       1.34864013e-01, 2.10806793e-01, 4.07290416e-01, 6.69635952e-02,\n",
       "       5.54207609e-01, 7.06530223e-01, 3.31760736e-01, 9.37244965e-01,\n",
       "       3.51471862e-01, 2.69034538e-01, 9.74910878e-01, 4.42736136e-02,\n",
       "       2.92256463e-01, 3.14053366e-01, 4.77195256e-02, 6.62915337e-02,\n",
       "       5.95414047e-01, 4.08723756e-01, 8.52166871e-01, 6.81415511e-01,\n",
       "       6.07548773e-01, 1.84740977e-02, 2.37032471e-01, 3.32609526e-01,\n",
       "       9.20866657e-01, 1.68245067e-01, 7.42963469e-01, 1.99533279e-01,\n",
       "       4.86574782e-01, 9.01356399e-02, 6.44796850e-01, 7.61671878e-01,\n",
       "       4.40325673e-01, 1.73786179e-01, 8.41193241e-01, 5.27579683e-01,\n",
       "       4.10212397e-01, 7.75849779e-01, 1.68804116e-01, 6.26314751e-01,\n",
       "       7.90975922e-01, 8.50045405e-02, 9.91661512e-01, 8.95609140e-01,\n",
       "       7.41095907e-01, 1.27669922e-01, 1.65784408e-01, 3.67669489e-01,\n",
       "       7.13603929e-04, 9.82766716e-01, 7.51114912e-02, 1.78119360e-01,\n",
       "       7.73759918e-01, 2.85927158e-01, 3.19034319e-02, 2.30426743e-01,\n",
       "       9.35616330e-01, 2.95226498e-01, 4.56390877e-01, 6.59477668e-01,\n",
       "       6.23122548e-01, 2.35128183e-01, 3.51167682e-01, 5.63764584e-01,\n",
       "       8.06279224e-01, 9.96388189e-01, 5.27378482e-01, 6.31032912e-01,\n",
       "       8.41100216e-02, 1.99806497e-01, 8.84888918e-01, 3.73255673e-01,\n",
       "       3.99644197e-01, 4.06819139e-01, 3.35556598e-01, 8.08378833e-01,\n",
       "       3.84399603e-01, 5.04040503e-01, 6.74372445e-01, 1.68556636e-01,\n",
       "       1.65058737e-01, 6.92589024e-01, 7.28647192e-01, 8.03345128e-01,\n",
       "       6.95093787e-01, 4.49093794e-01, 5.47885499e-01, 2.72565175e-02,\n",
       "       4.21278229e-01, 2.10605168e-01, 7.18071377e-01, 7.24665657e-01,\n",
       "       4.12308069e-01, 8.11096708e-01, 6.49004392e-01, 8.83297462e-01,\n",
       "       6.46230012e-01, 7.26807869e-01, 4.84182987e-02, 1.77020462e-01,\n",
       "       8.78095107e-01, 6.54159427e-01, 8.58120774e-01, 7.09763470e-01,\n",
       "       5.70423560e-01, 1.28818471e-01, 5.44292016e-01, 1.35799079e-01,\n",
       "       8.99258339e-01, 4.67231140e-01, 1.47488658e-01, 6.03028241e-01])"
      ]
     },
     "execution_count": 60,
     "metadata": {},
     "output_type": "execute_result"
    }
   ],
   "source": [
    "y"
   ]
  },
  {
   "cell_type": "code",
   "execution_count": 61,
   "metadata": {},
   "outputs": [],
   "source": [
    "distance = np.sqrt(x**3 + y**3)"
   ]
  },
  {
   "cell_type": "code",
   "execution_count": 62,
   "metadata": {},
   "outputs": [
    {
     "data": {
      "text/plain": [
       "array([0.18461759, 0.32995086, 0.67204606, 0.60961721, 0.88716098,\n",
       "       0.42111406, 0.45751009, 0.8653514 , 1.32307172, 1.26553377,\n",
       "       0.58229871, 0.99390055, 0.63922908, 0.64264389, 0.30483415,\n",
       "       0.8811325 , 0.78610691, 0.34086532, 0.66704093, 1.01024183,\n",
       "       0.96185733, 0.7789451 , 0.3815332 , 0.35245824, 0.9143168 ,\n",
       "       0.79937881, 0.39348548, 0.6637043 , 0.26445854, 0.78384101,\n",
       "       0.1572686 , 0.19367118, 1.1505856 , 0.34089933, 0.46025197,\n",
       "       0.93326694, 0.36575585, 0.66592239, 0.46584891, 0.94428513,\n",
       "       1.0868763 , 0.32399902, 0.44247942, 0.54731537, 0.38792911,\n",
       "       0.24316272, 0.94082595, 0.70603748, 1.02579274, 1.13002276,\n",
       "       0.35128212, 0.73838676, 0.50942058, 0.06327668, 1.24886228,\n",
       "       0.52506119, 0.83788697, 0.33951037, 0.75122403, 1.02277473,\n",
       "       0.86418569, 0.21205456, 0.64911305, 0.98430312, 0.62424325,\n",
       "       0.93657044, 0.69885183, 0.80042645, 0.80241867, 0.06656609,\n",
       "       0.03870419, 0.74315368, 0.27422459, 0.41893606, 0.22768347,\n",
       "       0.24319397, 0.75313162, 0.70294546, 1.16401803, 0.13627321,\n",
       "       0.81746799, 0.58970892, 0.1345246 , 0.17006261, 1.0010911 ,\n",
       "       1.12382164, 0.3400832 , 0.82417377, 0.71914543, 0.95759907,\n",
       "       0.86994384, 0.58125745, 0.03078301, 0.04836142, 0.89023638,\n",
       "       0.79330889, 0.76848214, 0.71501628, 0.68159976, 1.04705561,\n",
       "       1.02422014, 0.5899724 , 0.87774891, 0.67786856, 0.72067695,\n",
       "       0.92831052, 0.41894327, 0.65985718, 0.61025907, 0.76249765,\n",
       "       0.28832032, 0.20742373, 0.46211478, 0.26416011, 0.61051786,\n",
       "       0.76555102, 0.53950684, 0.98480607, 0.67491619, 1.04261645,\n",
       "       0.94450678, 0.30954509, 0.9402738 , 0.65674693, 0.11067961,\n",
       "       0.68891188, 0.69763251, 0.21882566, 0.32894522, 0.67138982,\n",
       "       0.48829301, 0.60801447, 0.36589836, 0.95128362, 0.92802097,\n",
       "       0.77916934, 0.64829839, 0.93159543, 0.58088338, 0.93438032,\n",
       "       0.9383762 , 0.97162089, 0.64836214, 0.83704558, 0.66780921,\n",
       "       0.60647818, 0.45246398, 0.22124599, 0.50751377, 0.07533004,\n",
       "       0.33393582, 0.97139763, 0.82382467, 0.93397343, 0.09509006,\n",
       "       0.8829675 , 0.51601174, 0.02607554, 0.66414526, 0.80746843,\n",
       "       0.87459266, 0.6187843 , 0.18067092, 0.78874292, 0.53805227,\n",
       "       0.240731  , 1.31679659, 0.41762491, 0.89742317, 0.62412334,\n",
       "       1.31912617, 0.29959964, 0.13271366, 0.34661749, 0.64510937,\n",
       "       1.29646256, 0.72492838, 0.69827988, 1.0958099 , 0.47254096,\n",
       "       0.52950907, 0.03434386, 1.19545769, 0.9398711 , 0.79238355,\n",
       "       0.97565561, 0.60904308, 0.2184263 , 0.99311211, 0.91096978,\n",
       "       0.11389316, 0.38015584, 0.67762825, 0.92212327, 0.4861024 ,\n",
       "       0.55540702, 0.45809539, 0.1528576 , 0.40456198, 0.05742444,\n",
       "       0.98180089, 0.94396976, 0.09633237, 0.63064579, 0.68997767,\n",
       "       1.30483141, 0.90526908, 0.88883879, 0.71753645, 1.11412115,\n",
       "       0.87960227, 1.00073457, 0.99578681, 0.68755925, 0.90033495,\n",
       "       0.28346144, 0.75518428, 1.13702734, 0.46752827, 1.00703662,\n",
       "       0.77745787, 0.55018622, 0.22642321, 0.37637684, 1.14137875,\n",
       "       0.89839098, 0.55050297, 0.03752179, 1.20424598, 0.82885096,\n",
       "       1.11204341, 0.63012167, 0.60688511, 0.58907974, 0.58882855,\n",
       "       0.98048917, 0.25355431, 0.45649616, 0.73635689, 0.87114296,\n",
       "       0.17873773, 0.87834768, 1.0067117 , 0.95855845, 0.44046812,\n",
       "       0.99772678, 0.42259719, 0.03361533, 0.88115714, 0.66745811,\n",
       "       0.01266368, 0.06574607, 0.34337054, 0.52116651, 0.88047685,\n",
       "       1.06190293, 0.41191525, 0.24610783, 0.32384561, 0.35809573,\n",
       "       0.53485426, 0.569281  , 0.60568995, 0.56149026, 0.97657409,\n",
       "       0.70920286, 0.73189495, 0.44989012, 0.21690308, 0.7234622 ,\n",
       "       0.51143763, 0.2859539 , 0.55455842, 0.56481969, 0.05000567,\n",
       "       1.14071662, 0.16683846, 0.51202916, 0.06442783, 0.5675728 ,\n",
       "       0.05355006, 0.67883924, 0.6524952 , 0.13986061, 0.23047728,\n",
       "       0.4114561 , 0.51229372, 1.01218028, 0.95826062, 0.87888818,\n",
       "       1.11863713, 0.38541387, 0.51419237, 0.79074911, 0.30278852,\n",
       "       0.86876198, 0.99563705, 0.19200851, 0.65516715, 0.77786656,\n",
       "       0.52311913, 0.62194324, 1.21288951, 0.95104239, 0.64779226,\n",
       "       0.94235683, 0.57444972, 0.99135476, 1.20761938, 0.23124879,\n",
       "       0.01762747, 0.46295853, 1.00134657, 0.15104247, 0.33853054,\n",
       "       0.76618901, 0.45813004, 0.54238798, 0.84072304, 0.63232142,\n",
       "       0.86996972, 0.76054515, 0.58231684, 0.57473713, 0.14242659,\n",
       "       0.34021891, 0.81207174, 0.10637181, 0.97635299, 0.43113238,\n",
       "       0.92534662, 0.49072182, 0.79377797, 0.26036586, 0.56404528,\n",
       "       1.20895336, 1.0014524 , 0.95075357, 0.79226387, 0.97871793,\n",
       "       0.49054262, 0.86920738, 0.824733  , 0.75956291, 0.97646779,\n",
       "       0.71220984, 0.94818002, 0.56780939, 0.67937325, 0.6426642 ,\n",
       "       0.41570882, 0.84428363, 0.73704266, 1.0341968 , 0.76874506,\n",
       "       0.55738066, 0.69240978, 0.85422006, 0.98450426, 1.07006501,\n",
       "       0.37796449, 0.86054118, 1.25320653, 0.40108282, 1.09002199,\n",
       "       0.04140952, 0.87336194, 0.26786944, 0.97512289, 0.74265924,\n",
       "       0.49538474, 0.41183564, 0.32117309, 0.68209708, 0.46977241,\n",
       "       1.31568953, 0.49313062, 0.56023099, 0.77003331, 0.61869048,\n",
       "       0.1648312 , 0.49789759, 1.25740834, 0.47324285, 0.14198651,\n",
       "       0.9327937 , 0.49613102, 0.34255406, 0.87571777, 0.15630476,\n",
       "       0.24906194, 0.63065158, 0.65686345, 0.62806409, 0.61789483,\n",
       "       0.30225351, 0.04569422, 0.27335397, 0.99335236, 0.37544213,\n",
       "       0.79114285, 1.20031226, 0.60891733, 0.68211314, 0.54767513,\n",
       "       0.71606983, 0.88133709, 0.7720853 , 0.67231564, 0.67191174,\n",
       "       0.99739313, 0.27374149, 0.24538601, 0.45753979, 0.87716321,\n",
       "       0.34396557, 1.04858083, 0.96319321, 0.99123756, 0.15498686,\n",
       "       1.01047114, 0.96996199, 0.97239505, 0.34593024, 0.99558237,\n",
       "       0.82207153, 0.36952508, 0.9456227 , 0.51708795, 0.775017  ,\n",
       "       0.32481821, 0.31046956, 0.04581144, 0.52129335, 0.03414341,\n",
       "       0.12018569, 0.77554456, 0.99626564, 0.48907553, 1.06537272,\n",
       "       0.64739242, 0.81357265, 0.11812346, 0.70068618, 0.88724222,\n",
       "       0.32222064, 0.67555572, 0.53411903, 0.89348727, 1.05209876,\n",
       "       0.43004068, 0.71129766, 1.03033683, 0.63184218, 0.99165954,\n",
       "       1.10340639, 0.96389539, 0.3540812 , 1.24411   , 0.70141209,\n",
       "       0.53041333, 0.44261492, 1.02755328, 1.05238371, 0.86221124,\n",
       "       0.47000603, 0.53571615, 0.82146817, 0.93380804, 0.81208019,\n",
       "       0.50400599, 0.82367801, 0.68536862, 0.26374297, 0.91436008,\n",
       "       0.72721329, 0.86086028, 0.20959455, 0.80640106, 0.71098715,\n",
       "       0.90147237, 0.6502266 , 0.47509799, 0.69138228, 1.12625096,\n",
       "       0.79678333, 0.24705665, 0.54549336, 0.78795996, 0.47312839,\n",
       "       0.56447433, 0.4933603 , 0.89676802, 0.11444721, 0.84106719,\n",
       "       0.61597973, 0.33574928, 0.63117017, 0.61485281, 0.5395813 ,\n",
       "       0.82489504, 0.71551022, 0.30553642, 0.41889519, 0.66974723,\n",
       "       0.20765549, 0.86174785, 0.65457515, 0.62840917, 0.52243637,\n",
       "       0.84587281, 0.94466768, 0.02266327, 0.85676874, 0.66678036,\n",
       "       0.49459363, 0.2038597 , 0.52016157, 0.1635954 , 0.59139208,\n",
       "       0.92108903, 0.02137767, 0.94258228, 0.6685914 , 1.12610859,\n",
       "       0.17444202, 0.15858834, 1.18963838, 0.06150936, 0.50591249,\n",
       "       0.61553628, 0.47084348, 0.25842466, 0.35942654, 1.03674962,\n",
       "       0.84243112, 0.7364413 , 0.15183331, 0.28612448, 0.41906995,\n",
       "       0.75923182, 0.70350942, 0.98874732, 0.81702262, 0.92479198,\n",
       "       0.48191576, 0.97915937, 0.15934451, 1.33950466, 0.41867671,\n",
       "       0.23650752, 0.78290032, 0.90221183, 0.58961653, 0.86587434,\n",
       "       0.75271841, 0.52005843, 0.05253845, 0.69825412, 0.59078607,\n",
       "       0.27877423, 0.96540646, 0.31514696, 0.42825112, 0.46771073,\n",
       "       0.85549531, 0.94157009, 1.05320389, 0.49750919, 0.30455874,\n",
       "       0.59632706, 0.76996562, 0.20393512, 0.33895367, 0.75362598,\n",
       "       0.05768942, 1.04202202, 0.9139071 , 0.18954402, 1.1720271 ,\n",
       "       0.75852535, 1.05712818, 0.35071909, 0.87629951, 0.24900348,\n",
       "       0.63791874, 0.42694568, 1.15564265, 0.07137407, 1.06887082,\n",
       "       0.72928932, 0.72115484, 0.36836417, 0.83111535, 0.98762366,\n",
       "       0.90793591, 0.22349078, 0.51462194, 0.71621553, 0.94045188,\n",
       "       0.78051753, 0.72858116, 0.72121739, 0.77500415, 1.30323373,\n",
       "       0.85894643, 0.06566625, 0.43795488, 0.55078496, 0.93306968,\n",
       "       0.93712885, 0.66746954, 0.50278965, 0.91124882, 1.0879035 ,\n",
       "       0.70717557, 0.45454145, 0.4250412 , 0.44410794, 0.50642511,\n",
       "       0.3240528 , 0.70343488, 0.73017192, 0.46619041, 0.09739633,\n",
       "       0.64395083, 0.98662618, 0.33591603, 0.69621447, 0.42189639,\n",
       "       0.48072263, 0.67792007, 0.67013603, 1.24097013, 0.49770279,\n",
       "       0.98381225, 0.25290474, 0.49909702, 0.26824486, 0.41438238,\n",
       "       1.22960158, 0.62859252, 0.97817605, 0.30461971, 0.68995621,\n",
       "       0.45437871, 0.9608051 , 0.4745891 , 0.85641301, 0.60920391,\n",
       "       0.25656258, 0.48886511, 0.23759983, 1.05692975, 0.79069629,\n",
       "       0.71932709, 0.67978321, 0.83501527, 0.47317358, 0.65923347,\n",
       "       0.66635473, 0.13969703, 1.1556114 , 0.61249181, 0.06153636,\n",
       "       0.85977787, 0.98121718, 0.99095971, 0.92174309, 0.05901248,\n",
       "       0.52747465, 1.0166486 , 0.5233545 , 0.32799257, 1.04044725,\n",
       "       0.90801032, 0.74182505, 0.72616545, 0.42910996, 0.84728552,\n",
       "       0.53261801, 0.65420682, 0.34445619, 0.3147529 , 0.99560121,\n",
       "       1.28960527, 0.30650487, 1.03926909, 1.0175705 , 0.6267725 ,\n",
       "       0.80490192, 0.13651905, 0.63435948, 1.14849873, 0.78316349,\n",
       "       1.2385179 , 0.45154358, 0.93054326, 0.4842536 , 0.6929975 ,\n",
       "       0.49179304, 0.75519088, 0.6241091 , 0.56714976, 0.25874417,\n",
       "       0.26526174, 0.47124097, 1.07599466, 0.99303859, 0.93637168,\n",
       "       0.0687589 , 0.14089382, 0.5121149 , 0.79687862, 0.59474937,\n",
       "       0.21366833, 0.09141331, 0.91821664, 0.54792631, 0.42208371,\n",
       "       0.9648017 , 0.31660263, 0.16020023, 0.98436612, 1.02641125,\n",
       "       0.23657661, 0.01795676, 0.94415022, 0.75640962, 0.41260526,\n",
       "       0.05768547, 0.26641094, 0.4095795 , 0.98594579, 0.78993129,\n",
       "       0.7169255 , 0.99018859, 0.3689562 , 0.87289224, 0.39662432,\n",
       "       0.91300565, 0.66731808, 0.8928534 , 0.4878977 , 0.88679045,\n",
       "       0.9331306 , 0.79182931, 0.53260133, 0.59186763, 0.3996626 ,\n",
       "       0.85783566, 0.47886537, 0.18818264, 0.66047823, 0.70456458,\n",
       "       0.07729634, 0.96586746, 0.35659708, 0.37108088, 0.83098675,\n",
       "       0.76642264, 0.98932426, 0.91958917, 0.76061568, 1.1234604 ,\n",
       "       0.33204558, 0.71754118, 0.52540815, 0.84467357, 0.86177463,\n",
       "       0.36069918, 0.41331777, 0.36058174, 0.87263518, 0.30737539,\n",
       "       0.84179954, 0.45793384, 0.40030885, 0.89750939, 0.64845066,\n",
       "       0.89279645, 0.3316151 , 0.71210373, 0.29602868, 0.70482161,\n",
       "       0.26464347, 0.72460899, 0.4909177 , 0.81053044, 0.82970295,\n",
       "       0.85855542, 0.77581228, 0.87194691, 0.72149672, 0.9824881 ,\n",
       "       0.31739092, 0.13017234, 0.91209205, 0.56548532, 0.55384305,\n",
       "       0.45483995, 1.03492524, 0.06225033, 0.29157392, 1.15465041,\n",
       "       0.48656108, 0.95614392, 0.12787462, 1.25053169, 0.69180664,\n",
       "       0.36779661, 0.90556876, 0.61364616, 0.59641628, 0.84618925,\n",
       "       1.01341536, 0.04933273, 0.53309157, 1.18339884, 0.73666653,\n",
       "       0.48037752, 0.80899182, 0.65167956, 0.59225416, 0.4621388 ,\n",
       "       0.21698086, 0.76990408, 0.09928777, 0.94623346, 1.15683476,\n",
       "       1.33406952, 0.49613483, 0.89450244, 0.52046658, 1.0367287 ,\n",
       "       0.57818023, 0.8314195 , 1.05355996, 1.32115488, 0.65239264,\n",
       "       1.10125085, 0.48982756, 0.01938471, 0.61472351, 0.39924698,\n",
       "       0.62496728, 0.40817434, 1.34306333, 0.3716726 , 0.07485055,\n",
       "       0.97136029, 0.96087903, 0.60135265, 0.49847599, 0.07441159,\n",
       "       0.38962798, 0.4224079 , 0.28382144, 0.90137406, 0.15988157,\n",
       "       0.95252695, 0.84105075, 0.46229109, 0.78573403, 0.9649938 ,\n",
       "       1.29124065, 0.96001951, 0.93903043, 0.79372777, 0.70824316,\n",
       "       0.61763139, 0.89544751, 1.27267895, 0.43425316, 0.85757618,\n",
       "       0.27669491, 0.53213546, 0.81381556, 0.76006138, 0.40829093,\n",
       "       0.75514941, 0.52175147, 1.00935975, 0.77335288, 0.76124782,\n",
       "       1.03292853, 0.85093499, 0.91937951, 0.19440412, 0.23351356,\n",
       "       0.97209823, 0.84729033, 0.42526781, 1.13208275, 1.0161176 ,\n",
       "       1.16508799, 1.00399724, 0.28045671, 1.00380465, 0.51123067,\n",
       "       0.22726747, 0.24244294, 0.57303245, 0.06689991, 0.85293873,\n",
       "       0.46720933, 0.99421918, 0.6298245 , 0.47412009, 0.53348027,\n",
       "       0.55951575, 0.85044859, 0.90944264, 0.11078072, 0.88965185,\n",
       "       0.23732788, 0.33961713, 0.63069608, 0.53212779, 0.95711457,\n",
       "       0.79547193, 0.40963511, 0.94680129, 0.3903038 , 0.71819741,\n",
       "       0.73858513, 0.59345596, 0.62261623, 0.73704244, 0.03969578,\n",
       "       1.00233784, 0.8824004 , 0.63824506, 0.56284779, 0.88488124,\n",
       "       0.48747986, 0.05398594, 1.04013617, 0.54863402, 0.93092606,\n",
       "       0.77044392, 0.41027916, 0.00660392, 0.85822986, 1.18582246,\n",
       "       0.16046419, 0.38369353, 0.61417821, 0.56801795, 0.84131368,\n",
       "       0.81458977, 0.42740397, 1.1341773 , 1.16796912, 0.38504392,\n",
       "       0.50176993, 0.4371431 , 0.17163904, 1.27589647, 0.34186412,\n",
       "       0.33374309, 0.32805383, 0.38616775, 0.9910033 , 0.27700115,\n",
       "       1.04910282, 0.59008178, 0.97978228, 0.94021229, 0.69585285,\n",
       "       0.96278462, 1.2205091 , 1.04111861, 0.43390582, 0.58592161,\n",
       "       0.75957118, 0.4018944 , 0.62829595, 0.6383361 , 0.61714596,\n",
       "       0.96757187, 0.74353141, 0.83882292, 0.83042059, 0.79466361,\n",
       "       1.05314626, 0.72052657, 0.08409443, 0.82286197, 0.90966607,\n",
       "       1.00730082, 0.61185965, 0.57162593, 0.78780823, 0.42491467,\n",
       "       0.81672428, 0.8625097 , 0.44570467, 0.92005209, 1.08999267])"
      ]
     },
     "execution_count": 62,
     "metadata": {},
     "output_type": "execute_result"
    }
   ],
   "source": [
    "distance"
   ]
  },
  {
   "cell_type": "code",
   "execution_count": 68,
   "metadata": {},
   "outputs": [
    {
     "data": {
      "text/plain": [
       "<matplotlib.collections.PathCollection at 0x199fd56ec88>"
      ]
     },
     "execution_count": 68,
     "metadata": {},
     "output_type": "execute_result"
    },
    {
     "data": {
      "image/png": "[encoded data removed]",
      "text/plain": [
       "<Figure size 432x288 with 1 Axes>"
      ]
     },
     "metadata": {
      "needs_background": "light"
     },
     "output_type": "display_data"
    }
   ],
   "source": [
    "import matplotlib.pyplot as plt #imports the visual graph\n",
    "plt.scatter(x,y, s=5) #prints the scatterplot for the x and y axis\n"
   ]
  },
  {
   "cell_type": "code",
   "execution_count": 70,
   "metadata": {},
   "outputs": [
    {
     "data": {
      "text/plain": [
       "array([ True,  True,  True,  True,  True,  True,  True,  True, False,\n",
       "       False,  True,  True,  True,  True,  True,  True,  True,  True,\n",
       "        True, False,  True,  True,  True,  True,  True,  True,  True,\n",
       "        True,  True,  True,  True,  True, False,  True,  True,  True,\n",
       "        True,  True,  True,  True, False,  True,  True,  True,  True,\n",
       "        True,  True,  True, False, False,  True,  True,  True,  True,\n",
       "       False,  True,  True,  True,  True, False,  True,  True,  True,\n",
       "        True,  True,  True,  True,  True,  True,  True,  True,  True,\n",
       "        True,  True,  True,  True,  True,  True, False,  True,  True,\n",
       "        True,  True,  True, False, False,  True,  True,  True,  True,\n",
       "        True,  True,  True,  True,  True,  True,  True,  True,  True,\n",
       "       False, False,  True,  True,  True,  True,  True,  True,  True,\n",
       "        True,  True,  True,  True,  True,  True,  True,  True,  True,\n",
       "        True,  True, False,  True,  True,  True,  True,  True,  True,\n",
       "        True,  True,  True,  True,  True,  True,  True,  True,  True,\n",
       "        True,  True,  True,  True,  True,  True,  True,  True,  True,\n",
       "        True,  True,  True,  True,  True,  True,  True,  True,  True,\n",
       "        True,  True,  True,  True,  True,  True,  True,  True,  True,\n",
       "        True,  True,  True,  True, False,  True,  True,  True, False,\n",
       "        True,  True,  True,  True, False,  True,  True, False,  True,\n",
       "        True,  True, False,  True,  True,  True,  True,  True,  True,\n",
       "        True,  True,  True,  True,  True,  True,  True,  True,  True,\n",
       "        True,  True,  True,  True,  True,  True,  True, False,  True,\n",
       "        True,  True, False,  True, False,  True,  True,  True,  True,\n",
       "        True, False,  True, False,  True,  True,  True,  True, False,\n",
       "        True,  True,  True, False,  True, False,  True,  True,  True,\n",
       "        True,  True,  True,  True,  True,  True,  True,  True, False,\n",
       "        True,  True,  True,  True,  True,  True,  True,  True,  True,\n",
       "        True,  True,  True, False,  True,  True,  True,  True,  True,\n",
       "        True,  True,  True,  True,  True,  True,  True,  True,  True,\n",
       "        True,  True,  True,  True,  True, False,  True,  True,  True,\n",
       "        True,  True,  True,  True,  True,  True,  True,  True, False,\n",
       "        True,  True, False,  True,  True,  True,  True,  True,  True,\n",
       "        True,  True,  True,  True,  True, False,  True,  True,  True,\n",
       "        True,  True, False,  True,  True,  True, False,  True,  True,\n",
       "        True,  True,  True,  True,  True,  True,  True,  True,  True,\n",
       "        True,  True,  True,  True,  True,  True,  True,  True,  True,\n",
       "        True,  True, False, False,  True,  True,  True,  True,  True,\n",
       "        True,  True,  True,  True,  True,  True,  True,  True,  True,\n",
       "        True,  True, False,  True,  True,  True,  True,  True, False,\n",
       "        True,  True, False,  True, False,  True,  True,  True,  True,\n",
       "        True,  True,  True,  True,  True,  True, False,  True,  True,\n",
       "        True,  True,  True,  True, False,  True,  True,  True,  True,\n",
       "        True,  True,  True,  True,  True,  True,  True,  True,  True,\n",
       "        True,  True,  True,  True,  True, False,  True,  True,  True,\n",
       "        True,  True,  True,  True,  True,  True,  True,  True,  True,\n",
       "        True,  True, False,  True,  True,  True, False,  True,  True,\n",
       "        True,  True,  True,  True,  True,  True,  True,  True,  True,\n",
       "        True,  True,  True,  True,  True,  True,  True, False,  True,\n",
       "        True,  True,  True,  True,  True,  True,  True,  True, False,\n",
       "        True,  True, False,  True,  True, False,  True,  True, False,\n",
       "        True,  True,  True, False, False,  True,  True,  True,  True,\n",
       "        True,  True,  True,  True,  True,  True,  True,  True,  True,\n",
       "        True,  True,  True,  True,  True,  True,  True, False,  True,\n",
       "        True,  True,  True,  True,  True,  True,  True,  True,  True,\n",
       "        True,  True,  True,  True,  True,  True,  True,  True,  True,\n",
       "        True,  True,  True,  True,  True,  True,  True,  True,  True,\n",
       "        True,  True,  True,  True,  True,  True,  True,  True,  True,\n",
       "        True,  True, False,  True,  True, False,  True,  True,  True,\n",
       "        True,  True,  True, False,  True,  True,  True,  True,  True,\n",
       "        True,  True,  True,  True,  True,  True,  True,  True, False,\n",
       "        True,  True,  True,  True,  True,  True,  True,  True,  True,\n",
       "        True,  True,  True,  True,  True,  True,  True,  True,  True,\n",
       "       False,  True,  True,  True,  True,  True,  True,  True,  True,\n",
       "       False,  True,  True, False,  True, False,  True,  True,  True,\n",
       "        True,  True, False,  True, False,  True,  True,  True,  True,\n",
       "        True,  True,  True,  True,  True,  True,  True,  True,  True,\n",
       "        True, False,  True,  True,  True,  True,  True,  True,  True,\n",
       "        True,  True, False,  True,  True,  True,  True,  True,  True,\n",
       "        True,  True,  True,  True,  True,  True,  True,  True,  True,\n",
       "        True,  True,  True, False,  True,  True,  True,  True,  True,\n",
       "        True, False,  True,  True,  True,  True,  True,  True,  True,\n",
       "        True,  True,  True,  True,  True, False,  True,  True,  True,\n",
       "        True,  True,  True,  True,  True, False,  True,  True,  True,\n",
       "        True,  True,  True,  True,  True, False,  True,  True, False,\n",
       "        True,  True,  True,  True,  True,  True,  True,  True,  True,\n",
       "        True, False,  True, False, False,  True,  True,  True,  True,\n",
       "       False,  True, False,  True,  True,  True,  True,  True,  True,\n",
       "        True,  True,  True,  True,  True, False,  True,  True,  True,\n",
       "        True,  True,  True,  True,  True,  True,  True,  True,  True,\n",
       "        True,  True,  True,  True, False,  True,  True,  True,  True,\n",
       "        True,  True,  True,  True,  True,  True,  True,  True,  True,\n",
       "        True,  True,  True,  True,  True,  True,  True,  True,  True,\n",
       "        True,  True,  True,  True,  True,  True,  True,  True,  True,\n",
       "        True,  True,  True,  True,  True,  True,  True,  True, False,\n",
       "        True,  True,  True,  True,  True,  True,  True,  True,  True,\n",
       "        True,  True,  True,  True,  True,  True,  True,  True,  True,\n",
       "        True,  True,  True,  True,  True,  True,  True,  True,  True,\n",
       "        True,  True,  True,  True,  True,  True,  True,  True,  True,\n",
       "       False,  True,  True, False,  True,  True,  True, False,  True,\n",
       "        True,  True,  True,  True,  True, False,  True,  True, False,\n",
       "        True,  True,  True,  True,  True,  True,  True,  True,  True,\n",
       "        True, False, False,  True,  True,  True, False,  True,  True,\n",
       "       False, False,  True, False,  True,  True,  True,  True,  True,\n",
       "        True, False,  True,  True,  True,  True,  True,  True,  True,\n",
       "        True,  True,  True,  True,  True,  True,  True,  True,  True,\n",
       "        True, False,  True,  True,  True,  True,  True,  True, False,\n",
       "        True,  True,  True,  True,  True,  True,  True,  True,  True,\n",
       "       False,  True,  True, False,  True,  True,  True,  True,  True,\n",
       "        True,  True, False, False, False, False,  True, False,  True,\n",
       "        True,  True,  True,  True,  True,  True,  True,  True,  True,\n",
       "        True,  True,  True,  True,  True,  True,  True,  True,  True,\n",
       "        True,  True,  True,  True,  True,  True,  True,  True,  True,\n",
       "        True,  True,  True, False,  True,  True,  True,  True,  True,\n",
       "        True, False,  True,  True,  True,  True,  True,  True, False,\n",
       "        True,  True,  True,  True,  True,  True,  True, False, False,\n",
       "        True,  True,  True,  True, False,  True,  True,  True,  True,\n",
       "        True,  True, False,  True,  True,  True,  True,  True, False,\n",
       "       False,  True,  True,  True,  True,  True,  True,  True,  True,\n",
       "        True,  True,  True,  True, False,  True,  True,  True,  True,\n",
       "       False,  True,  True,  True,  True,  True,  True,  True,  True,\n",
       "       False])"
      ]
     },
     "execution_count": 70,
     "metadata": {},
     "output_type": "execute_result"
    }
   ],
   "source": [
    "distance <=1 #Shows all distance that have a value less than or equal to minus 1"
   ]
  },
  {
   "cell_type": "code",
   "execution_count": null,
   "metadata": {},
   "outputs": [],
   "source": []
  }
 ],
 "metadata": {
  "kernelspec": {
   "display_name": "Python 3",
   "language": "python",
   "name": "python3"
  },
  "language_info": {
   "codemirror_mode": {
    "name": "ipython",
    "version": 3
   },
   "file_extension": ".py",
   "mimetype": "text/x-python",
   "name": "python",
   "nbconvert_exporter": "python",
   "pygments_lexer": "ipython3",
   "version": "3.7.4"
  }
 },
 "nbformat": 4,
 "nbformat_minor": 2
}
